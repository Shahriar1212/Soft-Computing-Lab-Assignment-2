{
  "nbformat": 4,
  "nbformat_minor": 0,
  "metadata": {
    "colab": {
      "name": "170104030_exp_01_2.ipynb",
      "provenance": [],
      "collapsed_sections": []
    },
    "kernelspec": {
      "name": "python3",
      "display_name": "Python 3"
    },
    "language_info": {
      "name": "python"
    }
  },
  "cells": [
    {
      "cell_type": "code",
      "metadata": {
        "id": "hcGzObsfl6t1"
      },
      "source": [
        "import numpy as np\n",
        "import pandas as pd\n",
        "import torch\n",
        "import torch.nn as nn\n",
        "import torch.nn.functional as F\n",
        "import torch.optim as optim\n",
        "from torch.utils.data import Dataset\n",
        "from torch.utils.data.sampler import SubsetRandomSampler\n",
        "from torchvision import datasets, transforms, models\n",
        "import os\n",
        "from os import path\n",
        "import matplotlib\n",
        "import matplotlib.pyplot as plt\n",
        "from PIL import Image\n",
        "\n",
        "from torch.utils.data import Dataset, DataLoader"
      ],
      "execution_count": 2,
      "outputs": []
    },
    {
      "cell_type": "code",
      "metadata": {
        "colab": {
          "base_uri": "https://localhost:8080/"
        },
        "id": "TyjGWVeFl--4",
        "outputId": "6b0d2b6d-1ed1-4a07-fc77-62d9f63c84d7"
      },
      "source": [
        "from google.colab import drive\n",
        "drive.mount('/content/gdrive')"
      ],
      "execution_count": 3,
      "outputs": [
        {
          "output_type": "stream",
          "text": [
            "Mounted at /content/gdrive\n"
          ],
          "name": "stdout"
        }
      ]
    },
    {
      "cell_type": "code",
      "metadata": {
        "colab": {
          "base_uri": "https://localhost:8080/"
        },
        "id": "2p3XH8gcmFOq",
        "outputId": "52599b9c-d849-4318-e578-76d124c5df1c"
      },
      "source": [
        "!unzip '/content/gdrive/MyDrive/Soft Computing/Assignment 2/Dataset_2.zip'"
      ],
      "execution_count": 4,
      "outputs": [
        {
          "output_type": "stream",
          "text": [
            "Archive:  /content/gdrive/MyDrive/Soft Computing/Assignment 2/Dataset_2.zip\n",
            "   creating: Dataset_2/\n",
            "  inflating: Dataset_2/t10k-images-idx3-ubyte  \n",
            "  inflating: Dataset_2/t10k-labels-idx1-ubyte  \n",
            "  inflating: Dataset_2/train-images-idx3-ubyte  \n",
            "  inflating: Dataset_2/train-labels-idx1-ubyte  \n",
            "  inflating: Dataset_2/verification_test.csv  \n",
            "  inflating: Dataset_2/verification_train.csv  \n"
          ],
          "name": "stdout"
        }
      ]
    },
    {
      "cell_type": "code",
      "metadata": {
        "id": "R5JNn_LHmSEy"
      },
      "source": [
        "train_csv  = pd.read_csv('/content/Dataset_2/verification_train.csv')\n",
        "test_csv = pd.read_csv('/content/Dataset_2/verification_test.csv')"
      ],
      "execution_count": 5,
      "outputs": []
    },
    {
      "cell_type": "code",
      "metadata": {
        "id": "8lnWSkT9bHq6"
      },
      "source": [
        "class FashionDataset(Dataset):\n",
        "    \"\"\"User defined class to build a datset using Pytorch class Dataset.\"\"\"\n",
        "    \n",
        "    def __init__(self, data, transform = None):\n",
        "        \"\"\"Method to initilaize variables.\"\"\" \n",
        "        self.fashion_MNIST = list(data.values)\n",
        "        self.transform = transform\n",
        "        \n",
        "        label = []\n",
        "        image = []\n",
        "        \n",
        "        for i in self.fashion_MNIST:\n",
        "             # first column is of labels.\n",
        "            label.append(i[0])\n",
        "            image.append(i[1:])\n",
        "        self.labels = np.asarray(label)\n",
        "        # Dimension of Images = 28 * 28 * 1. where height = width = 28 and color_channels = 1.\n",
        "        self.images = np.asarray(image).reshape(-1, 28, 28, 1).astype('float32')\n",
        "\n",
        "    def __getitem__(self, index):\n",
        "        label = self.labels[index]\n",
        "        image = self.images[index]\n",
        "        \n",
        "        if self.transform is not None:\n",
        "            image = self.transform(image)\n",
        "\n",
        "        return image, label\n",
        "\n",
        "    def __len__(self):\n",
        "        return len(self.images)"
      ],
      "execution_count": 6,
      "outputs": []
    },
    {
      "cell_type": "code",
      "metadata": {
        "id": "AwEAynkizMD9"
      },
      "source": [
        "# Transform data into Tensor that has a range from 0 to 1\n",
        "train_set = FashionDataset(train_csv, transform=transforms.Compose([transforms.ToTensor()]))\n",
        "test_set = FashionDataset(test_csv, transform=transforms.Compose([transforms.ToTensor()]))\n",
        "\n"
      ],
      "execution_count": 7,
      "outputs": []
    },
    {
      "cell_type": "markdown",
      "metadata": {
        "id": "A-2I2qtmmVLs"
      },
      "source": [
        "## Experiment 1"
      ]
    },
    {
      "cell_type": "code",
      "metadata": {
        "colab": {
          "base_uri": "https://localhost:8080/"
        },
        "id": "xZf9bnYIzL7E",
        "outputId": "4e27c8f2-b633-4b5d-ca23-3730ea1015b6"
      },
      "source": [
        "# Hyperparameters\n",
        "batch_size = 20\n",
        "num_iters = 20000\n",
        "input_dim = 28*28 # num_features = 784\n",
        "num_hidden = 200\n",
        "output_dim = 10\n",
        "\n",
        "learning_rate = 0.01\n",
        "\n",
        "\n",
        "num_epochs = num_iters / (len(train_set) / batch_size)\n",
        "num_epochs = int(num_epochs)\n",
        "\n",
        "iteration_loss = []\n",
        "accuracy_l = []\n",
        "\n",
        "# Device\n",
        "device = torch.device(\"cuda:0\" if torch.cuda.is_available() else \"cpu\")\n",
        "\n",
        "\n",
        "train_loader = torch.utils.data.DataLoader(dataset=train_set, \n",
        "                                           batch_size=batch_size, \n",
        "                                           shuffle=True)   # It's better to shuffle the whole training dataset! \n",
        "\n",
        "test_loader = torch.utils.data.DataLoader(dataset=test_set, \n",
        "                                          batch_size=batch_size, \n",
        "                                          shuffle=False) \n",
        "\n",
        "class DeepNeuralNetworkModel(nn.Module):\n",
        "    def __init__(self, input_size, num_classes, num_hidden):\n",
        "        super().__init__()\n",
        "        ### 1st hidden layer: 784 --> 100\n",
        "        self.linear_1 = nn.Linear(input_size, num_hidden)\n",
        "        ### Non-linearity in 1st hidden layer\n",
        "        self.relu_1 = nn.ReLU()\n",
        "\n",
        "        ### 2nd hidden layer: 100 --> 100\n",
        "        self.linear_2 = nn.Linear(num_hidden, num_hidden)\n",
        "        ### Non-linearity in 2nd hidden layer\n",
        "        self.relu_2 = nn.ReLU()\n",
        "\n",
        "        ### 3rd hidden layer: 100 --> 100\n",
        "        self.linear_3 = nn.Linear(num_hidden, num_hidden)\n",
        "        ### Non-linearity in 3rd hidden layer\n",
        "        self.relu_3 = nn.ReLU()\n",
        "\n",
        "        ### 4th hidden layer: 100 --> 100\n",
        "        self.linear_4 = nn.Linear(num_hidden, num_hidden)\n",
        "        ### Non-linearity in 4th hidden layer\n",
        "        self.relu_4 = nn.ReLU()\n",
        "\n",
        "        ### 5th hidden layer: 100 --> 100\n",
        "        self.linear_5 = nn.Linear(num_hidden, num_hidden)\n",
        "        ### Non-linearity in 4th hidden layer\n",
        "        self.relu_5 = nn.ReLU()\n",
        "\n",
        "        ### 6th hidden layer: 100 --> 100\n",
        "        self.linear_6 = nn.Linear(num_hidden, num_hidden)\n",
        "        ### Non-linearity in 4th hidden layer\n",
        "        self.relu_6 = nn.ReLU()\n",
        "\n",
        "        ### Output layer: 100 --> 10\n",
        "        self.linear_out = nn.Linear(num_hidden, num_classes)\n",
        "\n",
        "    def forward(self, x):\n",
        "        ### 1st hidden layer\n",
        "        # x = x.view(x.shape[0], -1)\n",
        "        out  = self.linear_1(x)\n",
        "        ### Non-linearity in 1st hidden layer\n",
        "        out = self.relu_1(out)\n",
        "        \n",
        "        ### 2nd hidden layer\n",
        "        out  = self.linear_2(out)\n",
        "        ### Non-linearity in 2nd hidden layer\n",
        "        out = self.relu_2(out)\n",
        "\n",
        "        ### 3rd hidden layer\n",
        "        out  = self.linear_3(out)\n",
        "        ### Non-linearity in 3rd hidden layer\n",
        "        out = self.relu_3(out)\n",
        "\n",
        "        ### 4th hidden layer\n",
        "        out  = self.linear_4(out)\n",
        "        ### Non-linearity in 4th hidden layer\n",
        "        out = self.relu_4(out)\n",
        "\n",
        "        ### 5th hidden layer\n",
        "        out  = self.linear_5(out)\n",
        "        ### Non-linearity in 5th hidden layer\n",
        "        out = self.relu_5(out)\n",
        "\n",
        "        ### 6th hidden layer\n",
        "        out  = self.linear_6(out)\n",
        "        ### Non-linearity in 6th hidden layer\n",
        "        out = self.relu_6(out)\n",
        "        \n",
        "        # Linear layer (output)\n",
        "        probas  = self.linear_out(out)\n",
        "        return probas\n",
        "\n",
        "# INSTANTIATE MODEL CLASS\n",
        "\n",
        "model = DeepNeuralNetworkModel(input_size = input_dim,\n",
        "                               num_classes = output_dim,\n",
        "                               num_hidden = num_hidden)\n",
        "\n",
        "\n",
        "# To enable GPU\n",
        "model.to(device)\n",
        "\n",
        "criterion = nn.CrossEntropyLoss()\n",
        "optimizer = torch.optim.SGD(model.parameters(), lr=learning_rate)\n",
        "\n",
        "iter = 0\n",
        "for epoch in range(num_epochs):\n",
        "    for i, (images, labels) in enumerate(train_loader):\n",
        "\n",
        "        images = images.view(-1, 28*28).to(device)\n",
        "        labels = labels.to(device)\n",
        "\n",
        "        # Clear gradients w.r.t. parameters\n",
        "        optimizer.zero_grad()\n",
        "\n",
        "        # Forward pass to get output/logits\n",
        "        outputs = model(images) \n",
        "\n",
        "        # Calculate Loss: softmax --> cross entropy loss\n",
        "        loss = criterion(outputs, labels)\n",
        "\n",
        "        # Getting gradients w.r.t. parameters\n",
        "        loss.backward()\n",
        "\n",
        "        # Updating parameters\n",
        "        optimizer.step()\n",
        "\n",
        "        iter += 1\n",
        "        if iter % 100 == 0:\n",
        "            print(\"\\r>> Current Iteration {}\".format(iter+1),end='')\n",
        "\n",
        "        if iter % 500 == 0:\n",
        "            # Calculate Accuracy         \n",
        "            correct = 0\n",
        "            total = 0\n",
        "            # Iterate through test dataset\n",
        "            for images, labels in test_loader:\n",
        "               \n",
        "                images = images.view(-1, 28*28).to(device)\n",
        "\n",
        "                # Forward pass only to get logits/output\n",
        "                outputs = model(images)\n",
        "\n",
        "                # Get predictions from the maximum value\n",
        "                _, predicted = torch.max(outputs, 1)\n",
        "\n",
        "                # Total number of labels\n",
        "                total += labels.size(0)\n",
        "\n",
        "\n",
        "                # Total correct predictions\n",
        "                if torch.cuda.is_available():\n",
        "                    correct += (predicted.cpu() == labels.cpu()).sum() \n",
        "                else:\n",
        "                    correct += (predicted == labels).sum()\n",
        "\n",
        "            accuracy = 100 * correct.item() / total\n",
        "\n",
        "            iteration_loss.append(loss.item())\n",
        "            accuracy_l.append(accuracy)\n",
        "\n",
        "            # Print Loss\n",
        "            print('\\nIteration: {}. Loss: {}. Accuracy: {}'.format(iter, loss.item(), accuracy))"
      ],
      "execution_count": 9,
      "outputs": [
        {
          "output_type": "stream",
          "text": [
            ">> Current Iteration 501\n",
            "Iteration: 500. Loss: 1.0376242399215698. Accuracy: 74.21\n",
            ">> Current Iteration 1001\n",
            "Iteration: 1000. Loss: 0.742768406867981. Accuracy: 78.83\n",
            ">> Current Iteration 1501\n",
            "Iteration: 1500. Loss: 0.22184725105762482. Accuracy: 80.13\n",
            ">> Current Iteration 2001\n",
            "Iteration: 2000. Loss: 0.3840026259422302. Accuracy: 82.18\n",
            ">> Current Iteration 2501\n",
            "Iteration: 2500. Loss: 0.6769133806228638. Accuracy: 82.57\n",
            ">> Current Iteration 3001\n",
            "Iteration: 3000. Loss: 0.35771989822387695. Accuracy: 83.31\n",
            ">> Current Iteration 3501\n",
            "Iteration: 3500. Loss: 0.6795690059661865. Accuracy: 83.31\n",
            ">> Current Iteration 4001\n",
            "Iteration: 4000. Loss: 0.30697348713874817. Accuracy: 85.76\n",
            ">> Current Iteration 4501\n",
            "Iteration: 4500. Loss: 0.4917227327823639. Accuracy: 85.54\n",
            ">> Current Iteration 5001\n",
            "Iteration: 5000. Loss: 0.3936648964881897. Accuracy: 85.49\n",
            ">> Current Iteration 5501\n",
            "Iteration: 5500. Loss: 0.7247306108474731. Accuracy: 85.5\n",
            ">> Current Iteration 6001\n",
            "Iteration: 6000. Loss: 0.32975712418556213. Accuracy: 86.11\n",
            ">> Current Iteration 6501\n",
            "Iteration: 6500. Loss: 0.1989039033651352. Accuracy: 84.92\n",
            ">> Current Iteration 7001\n",
            "Iteration: 7000. Loss: 0.19335687160491943. Accuracy: 86.39\n",
            ">> Current Iteration 7501\n",
            "Iteration: 7500. Loss: 0.5739415287971497. Accuracy: 86.94\n",
            ">> Current Iteration 8001\n",
            "Iteration: 8000. Loss: 0.31732556223869324. Accuracy: 87.07\n",
            ">> Current Iteration 8501\n",
            "Iteration: 8500. Loss: 0.5153416395187378. Accuracy: 84.79\n",
            ">> Current Iteration 9001\n",
            "Iteration: 9000. Loss: 0.2824096977710724. Accuracy: 86.71\n",
            ">> Current Iteration 9501\n",
            "Iteration: 9500. Loss: 0.7605457901954651. Accuracy: 83.41\n",
            ">> Current Iteration 10001\n",
            "Iteration: 10000. Loss: 0.45493513345718384. Accuracy: 86.27\n",
            ">> Current Iteration 10501\n",
            "Iteration: 10500. Loss: 0.6299008131027222. Accuracy: 85.45\n",
            ">> Current Iteration 11001\n",
            "Iteration: 11000. Loss: 0.1415288746356964. Accuracy: 86.99\n",
            ">> Current Iteration 11501\n",
            "Iteration: 11500. Loss: 0.20367805659770966. Accuracy: 87.31\n",
            ">> Current Iteration 12001\n",
            "Iteration: 12000. Loss: 0.5283695459365845. Accuracy: 87.44\n",
            ">> Current Iteration 12501\n",
            "Iteration: 12500. Loss: 0.26441076397895813. Accuracy: 87.39\n",
            ">> Current Iteration 13001\n",
            "Iteration: 13000. Loss: 0.3543849289417267. Accuracy: 86.18\n",
            ">> Current Iteration 13501\n",
            "Iteration: 13500. Loss: 0.25093042850494385. Accuracy: 87.0\n",
            ">> Current Iteration 14001\n",
            "Iteration: 14000. Loss: 0.27581673860549927. Accuracy: 87.64\n",
            ">> Current Iteration 14501\n",
            "Iteration: 14500. Loss: 0.24220037460327148. Accuracy: 86.29\n",
            ">> Current Iteration 15001\n",
            "Iteration: 15000. Loss: 0.655223548412323. Accuracy: 87.48\n",
            ">> Current Iteration 15501\n",
            "Iteration: 15500. Loss: 0.23101039230823517. Accuracy: 87.9\n",
            ">> Current Iteration 16001\n",
            "Iteration: 16000. Loss: 0.13900235295295715. Accuracy: 87.6\n",
            ">> Current Iteration 16501\n",
            "Iteration: 16500. Loss: 0.5435791015625. Accuracy: 87.85\n",
            ">> Current Iteration 17001\n",
            "Iteration: 17000. Loss: 0.34707820415496826. Accuracy: 88.22\n",
            ">> Current Iteration 17501\n",
            "Iteration: 17500. Loss: 0.21514499187469482. Accuracy: 87.02\n",
            ">> Current Iteration 18001\n",
            "Iteration: 18000. Loss: 0.5907888412475586. Accuracy: 87.51\n"
          ],
          "name": "stdout"
        }
      ]
    },
    {
      "cell_type": "code",
      "metadata": {
        "colab": {
          "base_uri": "https://localhost:8080/",
          "height": 279
        },
        "id": "uB4gBLr0zL1d",
        "outputId": "1658c06d-81c0-4efa-dff2-546009a4f539"
      },
      "source": [
        "\n",
        "import matplotlib\n",
        "import matplotlib.pyplot as plt\n",
        "# print (iteration_loss)\n",
        "plt.plot(iteration_loss)\n",
        "plt.ylabel('Cross Entropy Loss')\n",
        "plt.xlabel('Iteration (in every 500)')\n",
        "plt.show()"
      ],
      "execution_count": 10,
      "outputs": [
        {
          "output_type": "display_data",
          "data": {
            "image/png": "[encoded data removed]",
            "text/plain": [
              "<Figure size 432x288 with 1 Axes>"
            ]
          },
          "metadata": {
            "needs_background": "light"
          }
        }
      ]
    },
    {
      "cell_type": "code",
      "metadata": {
        "id": "6kZ_zlnPzLo8"
      },
      "source": [
        "save_model = True\n",
        "\n",
        "if save_model is True:\n",
        "    # Saves only parameters\n",
        "    # weights & biases\n",
        "    torch.save(model.state_dict(), 'exp_01_2.pkl')"
      ],
      "execution_count": 11,
      "outputs": []
    },
    {
      "cell_type": "code",
      "metadata": {
        "colab": {
          "base_uri": "https://localhost:8080/"
        },
        "id": "EiXPNIjH3X-f",
        "outputId": "dfbd51aa-878b-44e1-bcc5-ba605d37d81f"
      },
      "source": [
        "load_model = True\n",
        "\n",
        "if load_model is True:\n",
        "    model.load_state_dict(torch.load('/content/exp_01_2.pkl'))\n",
        "    print('Trained Model Loaded')"
      ],
      "execution_count": 12,
      "outputs": [
        {
          "output_type": "stream",
          "text": [
            "Trained Model Loaded\n"
          ],
          "name": "stdout"
        }
      ]
    },
    {
      "cell_type": "code",
      "metadata": {
        "colab": {
          "base_uri": "https://localhost:8080/",
          "height": 80
        },
        "id": "WpzC1MJJ3XkO",
        "outputId": "1b646677-f84a-4f81-c837-5a408dd5845b"
      },
      "source": [
        "for images, labels in test_loader:\n",
        "    break\n",
        "    \n",
        "fig, ax = plt.subplots(1, 10)\n",
        "for i in range(10):\n",
        "    ax[i].imshow(images[i].view(28, 28), cmap=matplotlib.cm.binary)\n",
        "\n",
        "plt.show()"
      ],
      "execution_count": 13,
      "outputs": [
        {
          "output_type": "display_data",
          "data": {
            "image/png": "[encoded data removed]",
            "text/plain": [
              "<Figure size 432x288 with 10 Axes>"
            ]
          },
          "metadata": {
            "needs_background": "light"
          }
        }
      ]
    },
    {
      "cell_type": "code",
      "metadata": {
        "colab": {
          "base_uri": "https://localhost:8080/"
        },
        "id": "pP_SAyTd3Xil",
        "outputId": "857fb4e1-3727-477d-efdd-917656394c00"
      },
      "source": [
        "predictions = model.forward(images[:10].view(-1, 28*28).to(device))\n",
        "predictions = torch.argmax(predictions, dim=1)\n",
        "print('Predicted labels', predictions.cpu().numpy())"
      ],
      "execution_count": 14,
      "outputs": [
        {
          "output_type": "stream",
          "text": [
            "Predicted labels [6 1 2 0 3 6 8 4 5 0]\n"
          ],
          "name": "stdout"
        }
      ]
    }
  ]
}