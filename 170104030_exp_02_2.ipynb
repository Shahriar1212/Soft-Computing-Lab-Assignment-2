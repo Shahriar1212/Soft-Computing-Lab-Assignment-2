{
  "nbformat": 4,
  "nbformat_minor": 0,
  "metadata": {
    "colab": {
      "name": "170104030_exp_02_2.ipynb",
      "provenance": [],
      "collapsed_sections": []
    },
    "kernelspec": {
      "name": "python3",
      "display_name": "Python 3"
    },
    "language_info": {
      "name": "python"
    },
    "accelerator": "GPU"
  },
  "cells": [
    {
      "cell_type": "code",
      "metadata": {
        "id": "hcGzObsfl6t1"
      },
      "source": [
        "import numpy as np\n",
        "import pandas as pd\n",
        "import torch\n",
        "import torch.nn as nn\n",
        "import torch.nn.functional as F\n",
        "import torch.optim as optim\n",
        "from torch.utils.data import Dataset\n",
        "from torch.utils.data.sampler import SubsetRandomSampler\n",
        "from torchvision import datasets, transforms, models\n",
        "import os\n",
        "from os import path\n",
        "import matplotlib\n",
        "import matplotlib.pyplot as plt\n",
        "from PIL import Image\n",
        "\n",
        "from torch.utils.data import Dataset, DataLoader"
      ],
      "execution_count": 1,
      "outputs": []
    },
    {
      "cell_type": "code",
      "metadata": {
        "colab": {
          "base_uri": "https://localhost:8080/"
        },
        "id": "TyjGWVeFl--4",
        "outputId": "6ed7d727-2593-41a6-ee38-aa3d3d6ba512"
      },
      "source": [
        "from google.colab import drive\n",
        "drive.mount('/content/gdrive')"
      ],
      "execution_count": 2,
      "outputs": [
        {
          "output_type": "stream",
          "text": [
            "Mounted at /content/gdrive\n"
          ],
          "name": "stdout"
        }
      ]
    },
    {
      "cell_type": "code",
      "metadata": {
        "colab": {
          "base_uri": "https://localhost:8080/"
        },
        "id": "2p3XH8gcmFOq",
        "outputId": "e5f4c050-aa09-4666-ed86-941bf59a46c0"
      },
      "source": [
        "!unzip '/content/gdrive/MyDrive/Soft Computing/Assignment 2/Dataset_2.zip'"
      ],
      "execution_count": 3,
      "outputs": [
        {
          "output_type": "stream",
          "text": [
            "Archive:  /content/gdrive/MyDrive/Soft Computing/Assignment 2/Dataset_2.zip\n",
            "   creating: Dataset_2/\n",
            "  inflating: Dataset_2/t10k-images-idx3-ubyte  \n",
            "  inflating: Dataset_2/t10k-labels-idx1-ubyte  \n",
            "  inflating: Dataset_2/train-images-idx3-ubyte  \n",
            "  inflating: Dataset_2/train-labels-idx1-ubyte  \n",
            "  inflating: Dataset_2/verification_test.csv  \n",
            "  inflating: Dataset_2/verification_train.csv  \n"
          ],
          "name": "stdout"
        }
      ]
    },
    {
      "cell_type": "code",
      "metadata": {
        "id": "R5JNn_LHmSEy"
      },
      "source": [
        "train_csv  = pd.read_csv('/content/Dataset_2/verification_train.csv')\n",
        "test_csv = pd.read_csv('/content/Dataset_2/verification_test.csv')"
      ],
      "execution_count": 4,
      "outputs": []
    },
    {
      "cell_type": "code",
      "metadata": {
        "id": "8lnWSkT9bHq6"
      },
      "source": [
        "class FashionDataset(Dataset):\n",
        "    \"\"\"User defined class to build a datset using Pytorch class Dataset.\"\"\"\n",
        "    \n",
        "    def __init__(self, data, transform = None):\n",
        "        \"\"\"Method to initilaize variables.\"\"\" \n",
        "        self.fashion_MNIST = list(data.values)\n",
        "        self.transform = transform\n",
        "        \n",
        "        label = []\n",
        "        image = []\n",
        "        \n",
        "        for i in self.fashion_MNIST:\n",
        "             # first column is of labels.\n",
        "            label.append(i[0])\n",
        "            image.append(i[1:])\n",
        "        self.labels = np.asarray(label)\n",
        "        # Dimension of Images = 28 * 28 * 1. where height = width = 28 and color_channels = 1.\n",
        "        self.images = np.asarray(image).reshape(-1, 28, 28, 1).astype('float32')\n",
        "\n",
        "    def __getitem__(self, index):\n",
        "        label = self.labels[index]\n",
        "        image = self.images[index]\n",
        "        \n",
        "        if self.transform is not None:\n",
        "            image = self.transform(image)\n",
        "\n",
        "        return image, label\n",
        "\n",
        "    def __len__(self):\n",
        "        return len(self.images)"
      ],
      "execution_count": 5,
      "outputs": []
    },
    {
      "cell_type": "code",
      "metadata": {
        "id": "AwEAynkizMD9"
      },
      "source": [
        "# Transform data into Tensor that has a range from 0 to 1\n",
        "train_set = FashionDataset(train_csv, transform=transforms.Compose([transforms.ToTensor()]))\n",
        "test_set = FashionDataset(test_csv, transform=transforms.Compose([transforms.ToTensor()]))\n",
        "\n"
      ],
      "execution_count": 6,
      "outputs": []
    },
    {
      "cell_type": "markdown",
      "metadata": {
        "id": "_DKIiWAf30Hh"
      },
      "source": [
        "# Experiment 2"
      ]
    },
    {
      "cell_type": "code",
      "metadata": {
        "id": "tPtsLeCD3Xei"
      },
      "source": [
        "# Hyperparameters\n",
        "batch_size = 100\n",
        "num_iters = 50000\n",
        "input_dim = 28*28 # num_features = 784\n",
        "num_hidden = 500\n",
        "output_dim = 10\n",
        "\n",
        "learning_rate = 0.01\n",
        "\n",
        "\n",
        "num_epochs = num_iters / (len(train_set) / batch_size)\n",
        "num_epochs = int(num_epochs)\n",
        "\n",
        "iteration_loss = []\n",
        "accuracy_l = []\n",
        "\n",
        "# Device\n",
        "device = torch.device(\"cuda:0\" if torch.cuda.is_available() else \"cpu\")\n",
        "\n",
        "\n",
        "train_loader = torch.utils.data.DataLoader(dataset=train_set, \n",
        "                                           batch_size=batch_size, \n",
        "                                           shuffle=True)   # It's better to shuffle the whole training dataset! \n",
        "\n",
        "test_loader = torch.utils.data.DataLoader(dataset=test_set, \n",
        "                                          batch_size=batch_size, \n",
        "                                          shuffle=False) \n",
        "\n",
        "class DeepNeuralNetworkModel(nn.Module):\n",
        "    def __init__(self, input_size, num_classes, num_hidden):\n",
        "        super().__init__()\n",
        "        ### 1st hidden layer: 784 --> 100\n",
        "        self.linear_1 = nn.Linear(input_size, num_hidden)\n",
        "        ### Non-linearity in 1st hidden layer\n",
        "        self.relu_1 = nn.ReLU()\n",
        "\n",
        "        ### 2nd hidden layer: 100 --> 100\n",
        "        self.linear_2 = nn.Linear(num_hidden, num_hidden)\n",
        "        ### Non-linearity in 2nd hidden layer\n",
        "        self.relu_2 = nn.ReLU()\n",
        "\n",
        "        ### 3rd hidden layer: 100 --> 100\n",
        "        self.linear_3 = nn.Linear(num_hidden, num_hidden)\n",
        "        ### Non-linearity in 3rd hidden layer\n",
        "        self.relu_3 = nn.ReLU()\n",
        "\n",
        "        ### 4th hidden layer: 100 --> 100\n",
        "        self.linear_4 = nn.Linear(num_hidden, num_hidden)\n",
        "        ### Non-linearity in 4th hidden layer\n",
        "        self.relu_4 = nn.ReLU()\n",
        "\n",
        "        ### Output layer: 100 --> 10\n",
        "        self.linear_out = nn.Linear(num_hidden, num_classes)\n",
        "\n",
        "    def forward(self, x):\n",
        "        ### 1st hidden layer\n",
        "        # x = x.view(x.shape[0], -1)\n",
        "        out  = self.linear_1(x)\n",
        "        ### Non-linearity in 1st hidden layer\n",
        "        out = self.relu_1(out)\n",
        "        \n",
        "        ### 2nd hidden layer\n",
        "        out  = self.linear_2(out)\n",
        "        ### Non-linearity in 2nd hidden layer\n",
        "        out = self.relu_2(out)\n",
        "\n",
        "        ### 3rd hidden layer\n",
        "        out  = self.linear_3(out)\n",
        "        ### Non-linearity in 3rd hidden layer\n",
        "        out = self.relu_3(out)\n",
        "\n",
        "        ### 4th hidden layer\n",
        "        out  = self.linear_4(out)\n",
        "        ### Non-linearity in 4th hidden layer\n",
        "        out = self.relu_4(out)\n",
        "        \n",
        "        # Linear layer (output)\n",
        "        probas  = self.linear_out(out)\n",
        "        return probas\n",
        "\n",
        "# INSTANTIATE MODEL CLASS\n",
        "\n",
        "model = DeepNeuralNetworkModel(input_size = input_dim,\n",
        "                               num_classes = output_dim,\n",
        "                               num_hidden = num_hidden)\n",
        "\n",
        "\n",
        "# To enable GPU\n",
        "model.to(device)\n",
        "\n",
        "criterion = nn.CrossEntropyLoss()\n",
        "optimizer = torch.optim.SGD(model.parameters(), lr=learning_rate)"
      ],
      "execution_count": 7,
      "outputs": []
    },
    {
      "cell_type": "code",
      "metadata": {
        "colab": {
          "base_uri": "https://localhost:8080/"
        },
        "id": "7zlNWSmTkE7p",
        "outputId": "9c2d9308-fa39-42a4-9f67-622e69f0a79e"
      },
      "source": [
        "iter = 0\n",
        "for epoch in range(num_epochs):\n",
        "    for i, (images, labels) in enumerate(train_loader):\n",
        "\n",
        "        images = images.view(-1, 28*28).to(device)\n",
        "        labels = labels.to(device)\n",
        "\n",
        "        # Clear gradients w.r.t. parameters\n",
        "        optimizer.zero_grad()\n",
        "\n",
        "        # Forward pass to get output/logits\n",
        "        outputs = model(images) \n",
        "\n",
        "        # Calculate Loss: softmax --> cross entropy loss\n",
        "        loss = criterion(outputs, labels)\n",
        "\n",
        "        # Getting gradients w.r.t. parameters\n",
        "        loss.backward()\n",
        "\n",
        "        # Updating parameters\n",
        "        optimizer.step()\n",
        "\n",
        "        iter += 1\n",
        "        if iter % 50 == 0:\n",
        "            print(\"\\r>> Current Iteration {}\".format(iter+1),end='')\n",
        "\n",
        "        if iter % 500 == 0:\n",
        "            # Calculate Accuracy         \n",
        "            correct = 0\n",
        "            total = 0\n",
        "            # Iterate through test dataset\n",
        "            for images, labels in test_loader:\n",
        "               \n",
        "                images = images.view(-1, 28*28).to(device)\n",
        "\n",
        "                # Forward pass only to get logits/output\n",
        "                outputs = model(images)\n",
        "\n",
        "                # Get predictions from the maximum value\n",
        "                _, predicted = torch.max(outputs, 1)\n",
        "\n",
        "                # Total number of labels\n",
        "                total += labels.size(0)\n",
        "\n",
        "\n",
        "                # Total correct predictions\n",
        "                if torch.cuda.is_available():\n",
        "                    correct += (predicted.cpu() == labels.cpu()).sum() \n",
        "                else:\n",
        "                    correct += (predicted == labels).sum()\n",
        "\n",
        "            accuracy = 100 * correct.item() / total\n",
        "\n",
        "            iteration_loss.append(loss.item())\n",
        "            accuracy_l.append(accuracy)\n",
        "\n",
        "            # Print Loss\n",
        "            print('\\nIteration: {}. Loss: {}. Accuracy: {}'.format(iter, loss.item(), accuracy))"
      ],
      "execution_count": 8,
      "outputs": [
        {
          "output_type": "stream",
          "text": [
            ">> Current Iteration 501\n",
            "Iteration: 500. Loss: 0.483702152967453. Accuracy: 83.04\n",
            ">> Current Iteration 1001\n",
            "Iteration: 1000. Loss: 0.4330691397190094. Accuracy: 84.17\n",
            ">> Current Iteration 1501\n",
            "Iteration: 1500. Loss: 0.4652576148509979. Accuracy: 86.63\n",
            ">> Current Iteration 2001\n",
            "Iteration: 2000. Loss: 0.2622573971748352. Accuracy: 87.47\n",
            ">> Current Iteration 2501\n",
            "Iteration: 2500. Loss: 0.17019367218017578. Accuracy: 87.52\n",
            ">> Current Iteration 3001\n",
            "Iteration: 3000. Loss: 0.3257046937942505. Accuracy: 86.92\n",
            ">> Current Iteration 3501\n",
            "Iteration: 3500. Loss: 0.23919738829135895. Accuracy: 88.04\n",
            ">> Current Iteration 4001\n",
            "Iteration: 4000. Loss: 0.3071443736553192. Accuracy: 88.27\n",
            ">> Current Iteration 4501\n",
            "Iteration: 4500. Loss: 0.2899027168750763. Accuracy: 87.58\n",
            ">> Current Iteration 5001\n",
            "Iteration: 5000. Loss: 0.1966273933649063. Accuracy: 89.16\n",
            ">> Current Iteration 5501\n",
            "Iteration: 5500. Loss: 0.11937380582094193. Accuracy: 88.56\n",
            ">> Current Iteration 6001\n",
            "Iteration: 6000. Loss: 0.16660910844802856. Accuracy: 88.7\n",
            ">> Current Iteration 6501\n",
            "Iteration: 6500. Loss: 0.21148699522018433. Accuracy: 88.18\n",
            ">> Current Iteration 7001\n",
            "Iteration: 7000. Loss: 0.19411668181419373. Accuracy: 89.78\n",
            ">> Current Iteration 7501\n",
            "Iteration: 7500. Loss: 0.07876802980899811. Accuracy: 89.54\n",
            ">> Current Iteration 8001\n",
            "Iteration: 8000. Loss: 0.17857912182807922. Accuracy: 89.26\n",
            ">> Current Iteration 8501\n",
            "Iteration: 8500. Loss: 0.266991525888443. Accuracy: 88.68\n",
            ">> Current Iteration 9001\n",
            "Iteration: 9000. Loss: 0.22383831441402435. Accuracy: 89.21\n",
            ">> Current Iteration 9501\n",
            "Iteration: 9500. Loss: 0.18343569338321686. Accuracy: 89.43\n",
            ">> Current Iteration 10001\n",
            "Iteration: 10000. Loss: 0.16119003295898438. Accuracy: 89.43\n",
            ">> Current Iteration 10501\n",
            "Iteration: 10500. Loss: 0.1910962462425232. Accuracy: 89.33\n",
            ">> Current Iteration 11001\n",
            "Iteration: 11000. Loss: 0.07989118248224258. Accuracy: 89.29\n",
            ">> Current Iteration 11501\n",
            "Iteration: 11500. Loss: 0.24490170180797577. Accuracy: 89.21\n",
            ">> Current Iteration 12001\n",
            "Iteration: 12000. Loss: 0.15516957640647888. Accuracy: 90.08\n",
            ">> Current Iteration 12501\n",
            "Iteration: 12500. Loss: 0.21018947660923004. Accuracy: 88.65\n",
            ">> Current Iteration 13001\n",
            "Iteration: 13000. Loss: 0.16739271581172943. Accuracy: 89.88\n",
            ">> Current Iteration 13501\n",
            "Iteration: 13500. Loss: 0.07712259888648987. Accuracy: 89.6\n",
            ">> Current Iteration 14001\n",
            "Iteration: 14000. Loss: 0.12513048946857452. Accuracy: 89.33\n",
            ">> Current Iteration 14501\n",
            "Iteration: 14500. Loss: 0.08278165012598038. Accuracy: 90.13\n",
            ">> Current Iteration 15001\n",
            "Iteration: 15000. Loss: 0.10741037130355835. Accuracy: 89.44\n",
            ">> Current Iteration 15501\n",
            "Iteration: 15500. Loss: 0.11677591502666473. Accuracy: 89.21\n",
            ">> Current Iteration 16001\n",
            "Iteration: 16000. Loss: 0.0859871506690979. Accuracy: 89.29\n",
            ">> Current Iteration 16501\n",
            "Iteration: 16500. Loss: 0.08433511853218079. Accuracy: 89.68\n",
            ">> Current Iteration 17001\n",
            "Iteration: 17000. Loss: 0.04969310387969017. Accuracy: 89.61\n",
            ">> Current Iteration 17501\n",
            "Iteration: 17500. Loss: 0.17143622040748596. Accuracy: 88.74\n",
            ">> Current Iteration 18001\n",
            "Iteration: 18000. Loss: 0.152119442820549. Accuracy: 89.03\n",
            ">> Current Iteration 18501\n",
            "Iteration: 18500. Loss: 0.11904451996088028. Accuracy: 89.36\n",
            ">> Current Iteration 19001\n",
            "Iteration: 19000. Loss: 0.05098365247249603. Accuracy: 89.26\n",
            ">> Current Iteration 19501\n",
            "Iteration: 19500. Loss: 0.0831095278263092. Accuracy: 89.49\n",
            ">> Current Iteration 20001\n",
            "Iteration: 20000. Loss: 0.03237481415271759. Accuracy: 89.89\n",
            ">> Current Iteration 20501\n",
            "Iteration: 20500. Loss: 0.053657740354537964. Accuracy: 90.22\n",
            ">> Current Iteration 21001\n",
            "Iteration: 21000. Loss: 0.06673457473516464. Accuracy: 89.85\n",
            ">> Current Iteration 21501\n",
            "Iteration: 21500. Loss: 0.0370870903134346. Accuracy: 89.85\n",
            ">> Current Iteration 22001\n",
            "Iteration: 22000. Loss: 0.05148797482252121. Accuracy: 90.11\n",
            ">> Current Iteration 22501\n",
            "Iteration: 22500. Loss: 0.08629777282476425. Accuracy: 89.75\n",
            ">> Current Iteration 23001\n",
            "Iteration: 23000. Loss: 0.05937795713543892. Accuracy: 90.11\n",
            ">> Current Iteration 23501\n",
            "Iteration: 23500. Loss: 0.053937047719955444. Accuracy: 89.98\n",
            ">> Current Iteration 24001\n",
            "Iteration: 24000. Loss: 0.04736873507499695. Accuracy: 90.23\n",
            ">> Current Iteration 24501\n",
            "Iteration: 24500. Loss: 0.14008179306983948. Accuracy: 89.86\n",
            ">> Current Iteration 25001\n",
            "Iteration: 25000. Loss: 0.03921610489487648. Accuracy: 90.02\n",
            ">> Current Iteration 25501\n",
            "Iteration: 25500. Loss: 0.032605499029159546. Accuracy: 90.09\n",
            ">> Current Iteration 26001\n",
            "Iteration: 26000. Loss: 0.01967514306306839. Accuracy: 89.95\n",
            ">> Current Iteration 26501\n",
            "Iteration: 26500. Loss: 0.0661022961139679. Accuracy: 89.53\n",
            ">> Current Iteration 27001\n",
            "Iteration: 27000. Loss: 0.028654377907514572. Accuracy: 90.19\n",
            ">> Current Iteration 27501\n",
            "Iteration: 27500. Loss: 0.019762646406888962. Accuracy: 90.29\n",
            ">> Current Iteration 28001\n",
            "Iteration: 28000. Loss: 0.04787538945674896. Accuracy: 90.09\n",
            ">> Current Iteration 28501\n",
            "Iteration: 28500. Loss: 0.14413265883922577. Accuracy: 89.81\n",
            ">> Current Iteration 29001\n",
            "Iteration: 29000. Loss: 0.03315391764044762. Accuracy: 90.13\n",
            ">> Current Iteration 29501\n",
            "Iteration: 29500. Loss: 0.03278229758143425. Accuracy: 89.52\n",
            ">> Current Iteration 30001\n",
            "Iteration: 30000. Loss: 0.05909651145339012. Accuracy: 89.69\n",
            ">> Current Iteration 30501\n",
            "Iteration: 30500. Loss: 0.059991564601659775. Accuracy: 90.16\n",
            ">> Current Iteration 31001\n",
            "Iteration: 31000. Loss: 0.04123082011938095. Accuracy: 89.94\n",
            ">> Current Iteration 31501\n",
            "Iteration: 31500. Loss: 0.08356738090515137. Accuracy: 90.09\n",
            ">> Current Iteration 32001\n",
            "Iteration: 32000. Loss: 0.021459801122546196. Accuracy: 89.87\n",
            ">> Current Iteration 32501\n",
            "Iteration: 32500. Loss: 0.016386454924941063. Accuracy: 90.37\n",
            ">> Current Iteration 33001\n",
            "Iteration: 33000. Loss: 0.02091921493411064. Accuracy: 89.52\n",
            ">> Current Iteration 33501\n",
            "Iteration: 33500. Loss: 0.02590814419090748. Accuracy: 90.56\n",
            ">> Current Iteration 34001\n",
            "Iteration: 34000. Loss: 0.015486304648220539. Accuracy: 90.26\n",
            ">> Current Iteration 34501\n",
            "Iteration: 34500. Loss: 0.04578162357211113. Accuracy: 90.14\n",
            ">> Current Iteration 35001\n",
            "Iteration: 35000. Loss: 0.0316944420337677. Accuracy: 89.91\n",
            ">> Current Iteration 35501\n",
            "Iteration: 35500. Loss: 0.007408947218209505. Accuracy: 90.54\n",
            ">> Current Iteration 36001\n",
            "Iteration: 36000. Loss: 0.02693627029657364. Accuracy: 89.98\n",
            ">> Current Iteration 36501\n",
            "Iteration: 36500. Loss: 0.03024965338408947. Accuracy: 90.52\n",
            ">> Current Iteration 37001\n",
            "Iteration: 37000. Loss: 0.034020084887742996. Accuracy: 89.89\n",
            ">> Current Iteration 37501\n",
            "Iteration: 37500. Loss: 0.008755916729569435. Accuracy: 90.44\n",
            ">> Current Iteration 38001\n",
            "Iteration: 38000. Loss: 0.005047272425144911. Accuracy: 89.93\n",
            ">> Current Iteration 38501\n",
            "Iteration: 38500. Loss: 0.04300597682595253. Accuracy: 89.16\n",
            ">> Current Iteration 39001\n",
            "Iteration: 39000. Loss: 0.026135383173823357. Accuracy: 90.06\n",
            ">> Current Iteration 39501\n",
            "Iteration: 39500. Loss: 0.005545880179852247. Accuracy: 89.94\n",
            ">> Current Iteration 40001\n",
            "Iteration: 40000. Loss: 0.024120919406414032. Accuracy: 90.17\n",
            ">> Current Iteration 40501\n",
            "Iteration: 40500. Loss: 0.032540980726480484. Accuracy: 90.47\n",
            ">> Current Iteration 41001\n",
            "Iteration: 41000. Loss: 0.022390317171812057. Accuracy: 90.36\n",
            ">> Current Iteration 41501\n",
            "Iteration: 41500. Loss: 0.0009315778152085841. Accuracy: 90.42\n",
            ">> Current Iteration 42001\n",
            "Iteration: 42000. Loss: 0.006566035561263561. Accuracy: 90.7\n",
            ">> Current Iteration 42501\n",
            "Iteration: 42500. Loss: 0.0014274350833147764. Accuracy: 90.98\n",
            ">> Current Iteration 43001\n",
            "Iteration: 43000. Loss: 0.0006251641898415983. Accuracy: 90.87\n",
            ">> Current Iteration 43501\n",
            "Iteration: 43500. Loss: 0.0006033338140696287. Accuracy: 90.91\n",
            ">> Current Iteration 44001\n",
            "Iteration: 44000. Loss: 0.0005171275115571916. Accuracy: 90.88\n",
            ">> Current Iteration 44501\n",
            "Iteration: 44500. Loss: 0.0002819503133650869. Accuracy: 90.94\n",
            ">> Current Iteration 45001\n",
            "Iteration: 45000. Loss: 0.00023450976004824042. Accuracy: 90.97\n",
            ">> Current Iteration 45501\n",
            "Iteration: 45500. Loss: 0.0002693092683330178. Accuracy: 90.98\n",
            ">> Current Iteration 46001\n",
            "Iteration: 46000. Loss: 5.217867510509677e-05. Accuracy: 90.99\n",
            ">> Current Iteration 46501\n",
            "Iteration: 46500. Loss: 0.0006182657089084387. Accuracy: 90.94\n",
            ">> Current Iteration 47001\n",
            "Iteration: 47000. Loss: 0.00023207033518701792. Accuracy: 90.92\n",
            ">> Current Iteration 47501\n",
            "Iteration: 47500. Loss: 0.00012207604595459998. Accuracy: 90.97\n",
            ">> Current Iteration 48001\n",
            "Iteration: 48000. Loss: 0.0001504546671640128. Accuracy: 90.91\n",
            ">> Current Iteration 48501\n",
            "Iteration: 48500. Loss: 0.00010245397425023839. Accuracy: 90.96\n",
            ">> Current Iteration 49001\n",
            "Iteration: 49000. Loss: 0.0006215835455805063. Accuracy: 90.95\n",
            ">> Current Iteration 49501\n",
            "Iteration: 49500. Loss: 0.00020743995264638215. Accuracy: 90.93\n",
            ">> Current Iteration 49801"
          ],
          "name": "stdout"
        }
      ]
    },
    {
      "cell_type": "code",
      "metadata": {
        "colab": {
          "base_uri": "https://localhost:8080/",
          "height": 280
        },
        "id": "lqiMUJuX66_R",
        "outputId": "ba84b232-be0c-45f2-f4d7-3c2ac3403ff8"
      },
      "source": [
        "import matplotlib\n",
        "import matplotlib.pyplot as plt\n",
        "# print (iteration_loss)\n",
        "plt.plot(iteration_loss)\n",
        "plt.ylabel('Cross Entropy Loss')\n",
        "plt.xlabel('Iteration (in every 500)')\n",
        "plt.show()"
      ],
      "execution_count": 9,
      "outputs": [
        {
          "output_type": "display_data",
          "data": {
            "image/png": "[encoded data removed]",
            "text/plain": [
              "<Figure size 432x288 with 1 Axes>"
            ]
          },
          "metadata": {
            "needs_background": "light"
          }
        }
      ]
    },
    {
      "cell_type": "code",
      "metadata": {
        "id": "tJLSFIbs3W9t"
      },
      "source": [
        "\n",
        "save_model = True\n",
        "\n",
        "if save_model is True:\n",
        "    # Saves only parameters\n",
        "    # weights & biases\n",
        "    torch.save(model.state_dict(), 'exp_02_2.pkl')"
      ],
      "execution_count": 10,
      "outputs": []
    },
    {
      "cell_type": "code",
      "metadata": {
        "id": "ZmWiVx7PnInb",
        "colab": {
          "base_uri": "https://localhost:8080/"
        },
        "outputId": "5364cdd9-2c5c-4a72-bbd4-ec68afd03723"
      },
      "source": [
        "load_model = True\n",
        "\n",
        "if load_model is True:\n",
        "    model.load_state_dict(torch.load('/content/exp_02_2.pkl'))\n",
        "    print('Trained Model Loaded')"
      ],
      "execution_count": 11,
      "outputs": [
        {
          "output_type": "stream",
          "text": [
            "Trained Model Loaded\n"
          ],
          "name": "stdout"
        }
      ]
    },
    {
      "cell_type": "code",
      "metadata": {
        "id": "iXBD03JfnUyF",
        "colab": {
          "base_uri": "https://localhost:8080/",
          "height": 80
        },
        "outputId": "26e6b711-80bc-4d31-a358-4471e125a0ec"
      },
      "source": [
        "for images, labels in test_loader:\n",
        "    break\n",
        "    \n",
        "fig, ax = plt.subplots(1, 10)\n",
        "for i in range(10):\n",
        "    ax[i].imshow(images[i].view(28, 28), cmap=matplotlib.cm.binary)\n",
        "\n",
        "plt.show()"
      ],
      "execution_count": 12,
      "outputs": [
        {
          "output_type": "display_data",
          "data": {
            "image/png": "[encoded data removed]",
            "text/plain": [
              "<Figure size 432x288 with 10 Axes>"
            ]
          },
          "metadata": {
            "needs_background": "light"
          }
        }
      ]
    },
    {
      "cell_type": "code",
      "metadata": {
        "id": "PJWLzTpkrebI",
        "colab": {
          "base_uri": "https://localhost:8080/"
        },
        "outputId": "041110fa-7f39-4fe4-a723-ded9e8c50c4d"
      },
      "source": [
        "predictions = model.forward(images[:10].view(-1, 28*28).to(device))\n",
        "predictions = torch.argmax(predictions, dim=1)\n",
        "print('Predicted labels', predictions.cpu().numpy())"
      ],
      "execution_count": 13,
      "outputs": [
        {
          "output_type": "stream",
          "text": [
            "Predicted labels [0 1 6 2 3 6 8 2 5 0]\n"
          ],
          "name": "stdout"
        }
      ]
    }
  ]
}