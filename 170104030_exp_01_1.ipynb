{
  "nbformat": 4,
  "nbformat_minor": 0,
  "metadata": {
    "colab": {
      "name": "170104030_exp_01_1.ipynb",
      "provenance": [],
      "collapsed_sections": []
    },
    "kernelspec": {
      "name": "python3",
      "display_name": "Python 3"
    },
    "language_info": {
      "name": "python"
    }
  },
  "cells": [
    {
      "cell_type": "code",
      "metadata": {
        "id": "jqDWVtOp07TQ"
      },
      "source": [
        "import numpy as np\n",
        "import pandas as pd\n",
        "import torch\n",
        "import torch.nn as nn\n",
        "import torch.nn.functional as F\n",
        "import torch.optim as optim\n",
        "from torch.utils.data import Dataset\n",
        "from torch.utils.data.sampler import SubsetRandomSampler\n",
        "from torchvision import datasets, transforms, models\n",
        "import os\n",
        "from os import path\n",
        "import matplotlib\n",
        "import matplotlib.pyplot as plt\n",
        "from PIL import Image"
      ],
      "execution_count": null,
      "outputs": []
    },
    {
      "cell_type": "code",
      "metadata": {
        "colab": {
          "base_uri": "https://localhost:8080/"
        },
        "id": "0Mp2krfvfbdv",
        "outputId": "97a2648b-8074-4d54-ccea-ff2e73ad20dc"
      },
      "source": [
        "from google.colab import drive\n",
        "drive.mount('/content/gdrive')"
      ],
      "execution_count": null,
      "outputs": [
        {
          "output_type": "stream",
          "text": [
            "Mounted at /content/gdrive\n"
          ],
          "name": "stdout"
        }
      ]
    },
    {
      "cell_type": "code",
      "metadata": {
        "id": "UFFJ-zZMflYS"
      },
      "source": [
        "# !unzip '/content/gdrive/MyDrive/Soft Computing/Assignment 2/Dataset A.zip'"
      ],
      "execution_count": null,
      "outputs": []
    },
    {
      "cell_type": "code",
      "metadata": {
        "id": "0UliCJhbfnuh"
      },
      "source": [
        "dataset_csv = pd.read_csv('/content/training-a.csv')\n",
        "dataset_csv = dataset_csv[['filename', 'digit']]\n"
      ],
      "execution_count": null,
      "outputs": []
    },
    {
      "cell_type": "code",
      "metadata": {
        "colab": {
          "base_uri": "https://localhost:8080/",
          "height": 203
        },
        "id": "dXb4qqYu3i6l",
        "outputId": "62e26f6a-8841-4916-83b5-34d85aabde95"
      },
      "source": [
        "dataset_csv.head()"
      ],
      "execution_count": null,
      "outputs": [
        {
          "output_type": "execute_result",
          "data": {
            "text/html": [
              "<div>\n",
              "<style scoped>\n",
              "    .dataframe tbody tr th:only-of-type {\n",
              "        vertical-align: middle;\n",
              "    }\n",
              "\n",
              "    .dataframe tbody tr th {\n",
              "        vertical-align: top;\n",
              "    }\n",
              "\n",
              "    .dataframe thead th {\n",
              "        text-align: right;\n",
              "    }\n",
              "</style>\n",
              "<table border=\"1\" class=\"dataframe\">\n",
              "  <thead>\n",
              "    <tr style=\"text-align: right;\">\n",
              "      <th></th>\n",
              "      <th>filename</th>\n",
              "      <th>digit</th>\n",
              "    </tr>\n",
              "  </thead>\n",
              "  <tbody>\n",
              "    <tr>\n",
              "      <th>0</th>\n",
              "      <td>a00000.png</td>\n",
              "      <td>5</td>\n",
              "    </tr>\n",
              "    <tr>\n",
              "      <th>1</th>\n",
              "      <td>a00001.png</td>\n",
              "      <td>3</td>\n",
              "    </tr>\n",
              "    <tr>\n",
              "      <th>2</th>\n",
              "      <td>a00002.png</td>\n",
              "      <td>1</td>\n",
              "    </tr>\n",
              "    <tr>\n",
              "      <th>3</th>\n",
              "      <td>a00003.png</td>\n",
              "      <td>7</td>\n",
              "    </tr>\n",
              "    <tr>\n",
              "      <th>4</th>\n",
              "      <td>a00004.png</td>\n",
              "      <td>0</td>\n",
              "    </tr>\n",
              "  </tbody>\n",
              "</table>\n",
              "</div>"
            ],
            "text/plain": [
              "     filename  digit\n",
              "0  a00000.png      5\n",
              "1  a00001.png      3\n",
              "2  a00002.png      1\n",
              "3  a00003.png      7\n",
              "4  a00004.png      0"
            ]
          },
          "metadata": {},
          "execution_count": 5
        }
      ]
    },
    {
      "cell_type": "code",
      "metadata": {
        "id": "JLTJ8fu3f-jA"
      },
      "source": [
        "class DigitDataset(Dataset):\n",
        "    def __init__(self, df, root, transform=None):\n",
        "        self.data = df\n",
        "        self.root = root\n",
        "        self.transform = transform\n",
        "        \n",
        "    def __len__(self):\n",
        "        return len(self.data)\n",
        "    \n",
        "    def __getitem__(self, index):\n",
        "        item = self.data.iloc[index]\n",
        "        \n",
        "        path = self.root + \"/\" + item[0]\n",
        "        image = Image.open(path).convert('L')\n",
        "        label = item[1]\n",
        "        \n",
        "        if self.transform is not None:\n",
        "            image = self.transform(image)\n",
        "            \n",
        "        return image, label"
      ],
      "execution_count": null,
      "outputs": []
    },
    {
      "cell_type": "code",
      "metadata": {
        "colab": {
          "base_uri": "https://localhost:8080/"
        },
        "id": "-rm1JHjIgBNK",
        "outputId": "d4356216-5b78-4d1a-a8c0-7d8c168362b5"
      },
      "source": [
        "mean = [0.5,]\n",
        "std = [0.5, ]\n",
        "\n",
        "train_transform = transforms.Compose([\n",
        "    transforms.Resize(28),\n",
        "    transforms.ToTensor(),\n",
        "    transforms.Normalize(mean, std)\n",
        "])\n",
        "\n",
        "TRAIN_PATH = '/content/training-a'\n",
        "dataset  = DigitDataset(dataset_csv, TRAIN_PATH, train_transform)\n",
        "\n",
        "print(\"Trainig Samples: \",len(dataset))"
      ],
      "execution_count": null,
      "outputs": [
        {
          "output_type": "stream",
          "text": [
            "Trainig Samples:  19702\n"
          ],
          "name": "stdout"
        }
      ]
    },
    {
      "cell_type": "code",
      "metadata": {
        "colab": {
          "base_uri": "https://localhost:8080/"
        },
        "id": "antEBppdgDMC",
        "outputId": "26ae08ca-c504-46d2-b1d5-ee82b19767eb"
      },
      "source": [
        "dataset[0][0].size()"
      ],
      "execution_count": null,
      "outputs": [
        {
          "output_type": "execute_result",
          "data": {
            "text/plain": [
              "torch.Size([1, 28, 28])"
            ]
          },
          "metadata": {},
          "execution_count": 8
        }
      ]
    },
    {
      "cell_type": "code",
      "metadata": {
        "id": "SDa-GczmgHki"
      },
      "source": [
        "train_set, test_set = torch.utils.data.random_split(dataset,[15000,4702])"
      ],
      "execution_count": null,
      "outputs": []
    },
    {
      "cell_type": "markdown",
      "metadata": {
        "id": "q7beiJa1BSLy"
      },
      "source": [
        "# Experiment 1"
      ]
    },
    {
      "cell_type": "code",
      "metadata": {
        "colab": {
          "base_uri": "https://localhost:8080/"
        },
        "id": "qjSUOUWKgl71",
        "outputId": "c5b10d3e-d4e8-4784-aec1-ce3345571eb4"
      },
      "source": [
        "# Hyperparameters\n",
        "batch_size = 20\n",
        "num_iters = 20000\n",
        "input_dim = 28*28 # num_features = 784\n",
        "num_hidden = 200\n",
        "output_dim = 10\n",
        "\n",
        "learning_rate = 0.01\n",
        "\n",
        "\n",
        "num_epochs = num_iters / (len(train_set) / batch_size)\n",
        "num_epochs = int(num_epochs)\n",
        "\n",
        "iteration_loss = []\n",
        "accuracy_l = []\n",
        "\n",
        "# Device\n",
        "device = torch.device(\"cuda:0\" if torch.cuda.is_available() else \"cpu\")\n",
        "\n",
        "\n",
        "train_loader = torch.utils.data.DataLoader(dataset=train_set, \n",
        "                                           batch_size=batch_size, \n",
        "                                           shuffle=True)   # It's better to shuffle the whole training dataset! \n",
        "\n",
        "test_loader = torch.utils.data.DataLoader(dataset=test_set, \n",
        "                                          batch_size=batch_size, \n",
        "                                          shuffle=False) \n",
        "\n",
        "class DeepNeuralNetworkModel(nn.Module):\n",
        "    def __init__(self, input_size, num_classes, num_hidden):\n",
        "        super().__init__()\n",
        "        ### 1st hidden layer: 784 --> 100\n",
        "        self.linear_1 = nn.Linear(input_size, num_hidden)\n",
        "        ### Non-linearity in 1st hidden layer\n",
        "        self.relu_1 = nn.ReLU()\n",
        "\n",
        "        ### 2nd hidden layer: 100 --> 100\n",
        "        self.linear_2 = nn.Linear(num_hidden, num_hidden)\n",
        "        ### Non-linearity in 2nd hidden layer\n",
        "        self.relu_2 = nn.ReLU()\n",
        "\n",
        "        ### 3rd hidden layer: 100 --> 100\n",
        "        self.linear_3 = nn.Linear(num_hidden, num_hidden)\n",
        "        ### Non-linearity in 3rd hidden layer\n",
        "        self.relu_3 = nn.ReLU()\n",
        "\n",
        "        ### 4th hidden layer: 100 --> 100\n",
        "        self.linear_4 = nn.Linear(num_hidden, num_hidden)\n",
        "        ### Non-linearity in 4th hidden layer\n",
        "        self.relu_4 = nn.ReLU()\n",
        "\n",
        "        ### 5th hidden layer: 100 --> 100\n",
        "        self.linear_5 = nn.Linear(num_hidden, num_hidden)\n",
        "        ### Non-linearity in 4th hidden layer\n",
        "        self.relu_5 = nn.ReLU()\n",
        "\n",
        "        ### 6th hidden layer: 100 --> 100\n",
        "        self.linear_6 = nn.Linear(num_hidden, num_hidden)\n",
        "        ### Non-linearity in 4th hidden layer\n",
        "        self.relu_6 = nn.ReLU()\n",
        "\n",
        "        ### Output layer: 100 --> 10\n",
        "        self.linear_out = nn.Linear(num_hidden, num_classes)\n",
        "\n",
        "    def forward(self, x):\n",
        "        ### 1st hidden layer\n",
        "        # x = x.view(x.shape[0], -1)\n",
        "        out  = self.linear_1(x)\n",
        "        ### Non-linearity in 1st hidden layer\n",
        "        out = self.relu_1(out)\n",
        "        \n",
        "        ### 2nd hidden layer\n",
        "        out  = self.linear_2(out)\n",
        "        ### Non-linearity in 2nd hidden layer\n",
        "        out = self.relu_2(out)\n",
        "\n",
        "        ### 3rd hidden layer\n",
        "        out  = self.linear_3(out)\n",
        "        ### Non-linearity in 3rd hidden layer\n",
        "        out = self.relu_3(out)\n",
        "\n",
        "        ### 4th hidden layer\n",
        "        out  = self.linear_4(out)\n",
        "        ### Non-linearity in 4th hidden layer\n",
        "        out = self.relu_4(out)\n",
        "\n",
        "        ### 5th hidden layer\n",
        "        out  = self.linear_5(out)\n",
        "        ### Non-linearity in 5th hidden layer\n",
        "        out = self.relu_5(out)\n",
        "\n",
        "        ### 6th hidden layer\n",
        "        out  = self.linear_6(out)\n",
        "        ### Non-linearity in 6th hidden layer\n",
        "        out = self.relu_6(out)\n",
        "        \n",
        "        # Linear layer (output)\n",
        "        probas  = self.linear_out(out)\n",
        "        return probas\n",
        "\n",
        "# INSTANTIATE MODEL CLASS\n",
        "\n",
        "model = DeepNeuralNetworkModel(input_size = input_dim,\n",
        "                               num_classes = output_dim,\n",
        "                               num_hidden = num_hidden)\n",
        "\n",
        "\n",
        "# To enable GPU\n",
        "model.to(device)\n",
        "\n",
        "criterion = nn.CrossEntropyLoss()\n",
        "optimizer = torch.optim.SGD(model.parameters(), lr=learning_rate)\n",
        "\n",
        "iter = 0\n",
        "for epoch in range(num_epochs):\n",
        "    for i, (images, labels) in enumerate(train_loader):\n",
        "\n",
        "        images = images.view(-1, 28*28).to(device)\n",
        "        labels = labels.to(device)\n",
        "\n",
        "        # Clear gradients w.r.t. parameters\n",
        "        optimizer.zero_grad()\n",
        "\n",
        "        # Forward pass to get output/logits\n",
        "        outputs = model(images) \n",
        "\n",
        "        # Calculate Loss: softmax --> cross entropy loss\n",
        "        loss = criterion(outputs, labels)\n",
        "\n",
        "        # Getting gradients w.r.t. parameters\n",
        "        loss.backward()\n",
        "\n",
        "        # Updating parameters\n",
        "        optimizer.step()\n",
        "\n",
        "        iter += 1\n",
        "        if iter % 100 == 0:\n",
        "            print(\"\\r>> Current Iteration {}\".format(iter+1),end='')\n",
        "\n",
        "        if iter % 500 == 0:\n",
        "            # Calculate Accuracy         \n",
        "            correct = 0\n",
        "            total = 0\n",
        "            # Iterate through test dataset\n",
        "            for images, labels in test_loader:\n",
        "               \n",
        "                images = images.view(-1, 28*28).to(device)\n",
        "\n",
        "                # Forward pass only to get logits/output\n",
        "                outputs = model(images)\n",
        "\n",
        "                # Get predictions from the maximum value\n",
        "                _, predicted = torch.max(outputs, 1)\n",
        "\n",
        "                # Total number of labels\n",
        "                total += labels.size(0)\n",
        "\n",
        "\n",
        "                # Total correct predictions\n",
        "                if torch.cuda.is_available():\n",
        "                    correct += (predicted.cpu() == labels.cpu()).sum() \n",
        "                else:\n",
        "                    correct += (predicted == labels).sum()\n",
        "\n",
        "            accuracy = 100 * correct.item() / total\n",
        "\n",
        "            iteration_loss.append(loss.item())\n",
        "            accuracy_l.append(accuracy)\n",
        "\n",
        "            # Print Loss\n",
        "            print('\\nIteration: {}. Loss: {}. Accuracy: {}'.format(iter, loss.item(), accuracy))"
      ],
      "execution_count": null,
      "outputs": [
        {
          "output_type": "stream",
          "text": [
            ">> Current Iteration 501\n",
            "Iteration: 500. Loss: 2.2988693714141846. Accuracy: 10.14461931093152\n",
            ">> Current Iteration 1001\n",
            "Iteration: 1000. Loss: 2.303428888320923. Accuracy: 9.846873670778391\n",
            ">> Current Iteration 1501\n",
            "Iteration: 1500. Loss: 2.293372869491577. Accuracy: 10.017014036580179\n",
            ">> Current Iteration 2001\n",
            "Iteration: 2000. Loss: 2.3089041709899902. Accuracy: 9.931943853679286\n",
            ">> Current Iteration 2501\n",
            "Iteration: 2500. Loss: 2.300217628479004. Accuracy: 9.549128030625265\n",
            ">> Current Iteration 3001\n",
            "Iteration: 3000. Loss: 2.2989563941955566. Accuracy: 9.50659293917482\n",
            ">> Current Iteration 3501\n",
            "Iteration: 3500. Loss: 2.308377742767334. Accuracy: 9.655465759251383\n",
            ">> Current Iteration 4001\n",
            "Iteration: 4000. Loss: 2.30167818069458. Accuracy: 9.50659293917482\n",
            ">> Current Iteration 4501\n",
            "Iteration: 4500. Loss: 2.2994565963745117. Accuracy: 9.846873670778391\n",
            ">> Current Iteration 5001\n",
            "Iteration: 5000. Loss: 2.296848773956299. Accuracy: 9.655465759251383\n",
            ">> Current Iteration 5501\n",
            "Iteration: 5500. Loss: 2.294395923614502. Accuracy: 9.846873670778391\n",
            ">> Current Iteration 6001\n",
            "Iteration: 6000. Loss: 2.30000901222229. Accuracy: 11.080391322841344\n",
            ">> Current Iteration 6501\n",
            "Iteration: 6500. Loss: 2.304549217224121. Accuracy: 9.50659293917482\n",
            ">> Current Iteration 7001\n",
            "Iteration: 7000. Loss: 2.300110340118408. Accuracy: 9.655465759251383\n",
            ">> Current Iteration 7501\n",
            "Iteration: 7500. Loss: 2.304222345352173. Accuracy: 16.503615482773288\n",
            ">> Current Iteration 8001\n",
            "Iteration: 8000. Loss: 2.306472063064575. Accuracy: 9.953211399404509\n",
            ">> Current Iteration 8501\n",
            "Iteration: 8500. Loss: 2.3035569190979004. Accuracy: 10.14461931093152\n",
            ">> Current Iteration 9001\n",
            "Iteration: 9000. Loss: 2.297137498855591. Accuracy: 9.527860484900042\n",
            ">> Current Iteration 9501\n",
            "Iteration: 9500. Loss: 2.299344539642334. Accuracy: 9.549128030625265\n",
            ">> Current Iteration 10001\n",
            "Iteration: 10000. Loss: 2.2926642894744873. Accuracy: 18.098681412165035\n",
            ">> Current Iteration 10501\n",
            "Iteration: 10500. Loss: 2.2956020832061768. Accuracy: 14.90854955338154\n",
            ">> Current Iteration 11001\n",
            "Iteration: 11000. Loss: 2.290688991546631. Accuracy: 17.26924712888133\n",
            ">> Current Iteration 11501\n",
            "Iteration: 11500. Loss: 2.2909116744995117. Accuracy: 14.100382815823053\n",
            ">> Current Iteration 12001\n",
            "Iteration: 12000. Loss: 2.274075984954834. Accuracy: 20.672054444917055\n",
            ">> Current Iteration 12501\n",
            "Iteration: 12500. Loss: 2.240955114364624. Accuracy: 18.56656741811995\n",
            ">> Current Iteration 13001\n",
            "Iteration: 13000. Loss: 2.1839797496795654. Accuracy: 14.142917907273501\n",
            ">> Current Iteration 13501\n",
            "Iteration: 13500. Loss: 2.0737059116363525. Accuracy: 19.84262016163335\n",
            ">> Current Iteration 14001\n",
            "Iteration: 14000. Loss: 2.18693470954895. Accuracy: 18.05614632071459\n",
            ">> Current Iteration 14501\n",
            "Iteration: 14500. Loss: 2.0536937713623047. Accuracy: 14.802211824755423\n",
            ">> Current Iteration 15001\n",
            "Iteration: 15000. Loss: 2.195263385772705. Accuracy: 17.737133134836238\n",
            ">> Current Iteration 15501\n",
            "Iteration: 15500. Loss: 2.0738718509674072. Accuracy: 23.181624840493406\n",
            ">> Current Iteration 16001\n",
            "Iteration: 16000. Loss: 2.346072196960449. Accuracy: 12.377711612079967\n",
            ">> Current Iteration 16501\n",
            "Iteration: 16500. Loss: 1.8956489562988281. Accuracy: 11.356869417269246\n",
            ">> Current Iteration 17001\n",
            "Iteration: 17000. Loss: 1.9238474369049072. Accuracy: 22.096980008507018\n",
            ">> Current Iteration 17501\n",
            "Iteration: 17500. Loss: 1.9047324657440186. Accuracy: 19.247128881327093\n",
            ">> Current Iteration 18001\n",
            "Iteration: 18000. Loss: 2.0595340728759766. Accuracy: 17.056571671629094\n",
            ">> Current Iteration 18501\n",
            "Iteration: 18500. Loss: 2.2482216358184814. Accuracy: 21.948107188430455\n",
            ">> Current Iteration 19001\n",
            "Iteration: 19000. Loss: 1.8937877416610718. Accuracy: 17.92854104636325\n",
            ">> Current Iteration 19501\n",
            "Iteration: 19500. Loss: 2.1651523113250732. Accuracy: 23.670778392173542\n"
          ],
          "name": "stdout"
        }
      ]
    },
    {
      "cell_type": "code",
      "metadata": {
        "colab": {
          "base_uri": "https://localhost:8080/",
          "height": 316
        },
        "id": "2QNMpSQagw41",
        "outputId": "1ea780f5-92b6-4b63-9037-d3c8404abc5f"
      },
      "source": [
        "import matplotlib\n",
        "import matplotlib.pyplot as plt\n",
        "print (iteration_loss)\n",
        "plt.plot(iteration_loss)\n",
        "plt.ylabel('Cross Entropy Loss')\n",
        "plt.xlabel('Iteration (in every 500)')\n",
        "plt.show()"
      ],
      "execution_count": null,
      "outputs": [
        {
          "output_type": "stream",
          "text": [
            "[2.2988693714141846, 2.303428888320923, 2.293372869491577, 2.3089041709899902, 2.300217628479004, 2.2989563941955566, 2.308377742767334, 2.30167818069458, 2.2994565963745117, 2.296848773956299, 2.294395923614502, 2.30000901222229, 2.304549217224121, 2.300110340118408, 2.304222345352173, 2.306472063064575, 2.3035569190979004, 2.297137498855591, 2.299344539642334, 2.2926642894744873, 2.2956020832061768, 2.290688991546631, 2.2909116744995117, 2.274075984954834, 2.240955114364624, 2.1839797496795654, 2.0737059116363525, 2.18693470954895, 2.0536937713623047, 2.195263385772705, 2.0738718509674072, 2.346072196960449, 1.8956489562988281, 1.9238474369049072, 1.9047324657440186, 2.0595340728759766, 2.2482216358184814, 1.8937877416610718, 2.1651523113250732]\n"
          ],
          "name": "stdout"
        },
        {
          "output_type": "display_data",
          "data": {
            "image/png": "[encoded data removed]",
            "text/plain": [
              "<Figure size 432x288 with 1 Axes>"
            ]
          },
          "metadata": {
            "needs_background": "light"
          }
        }
      ]
    },
    {
      "cell_type": "code",
      "metadata": {
        "id": "YH5AEkoBgqDN"
      },
      "source": [
        "save_model = True\n",
        "\n",
        "if save_model is True:\n",
        "    # Saves only parameters\n",
        "    # weights & biases\n",
        "    torch.save(model.state_dict(), 'exp_01_1.pkl')"
      ],
      "execution_count": null,
      "outputs": []
    },
    {
      "cell_type": "code",
      "metadata": {
        "colab": {
          "base_uri": "https://localhost:8080/"
        },
        "id": "MfCpSGe2gp4F",
        "outputId": "f5d56dce-21ed-4e32-9517-f0ffc3c9b80d"
      },
      "source": [
        "load_model = True\n",
        "\n",
        "if load_model is True:\n",
        "    model.load_state_dict(torch.load('/content/exp_01_1.pkl'))\n",
        "    print('Trained Model Loaded')"
      ],
      "execution_count": null,
      "outputs": [
        {
          "output_type": "stream",
          "text": [
            "Trained Model Loaded\n"
          ],
          "name": "stdout"
        }
      ]
    },
    {
      "cell_type": "code",
      "metadata": {
        "colab": {
          "base_uri": "https://localhost:8080/",
          "height": 80
        },
        "id": "IzickGcZgvzX",
        "outputId": "5cac3ff3-6f36-4102-883d-cab10ab957dd"
      },
      "source": [
        "for images, labels in test_loader:\n",
        "    break\n",
        "    \n",
        "fig, ax = plt.subplots(1, 10)\n",
        "for i in range(10):\n",
        "    ax[i].imshow(images[i].view(28, 28), cmap=matplotlib.cm.binary)\n",
        "\n",
        "plt.show()"
      ],
      "execution_count": null,
      "outputs": [
        {
          "output_type": "display_data",
          "data": {
            "image/png": "[encoded data removed]",
            "text/plain": [
              "<Figure size 432x288 with 10 Axes>"
            ]
          },
          "metadata": {
            "needs_background": "light"
          }
        }
      ]
    },
    {
      "cell_type": "code",
      "metadata": {
        "colab": {
          "base_uri": "https://localhost:8080/"
        },
        "id": "FZf4atnMgpsP",
        "outputId": "99ddaf08-d90d-4e53-8def-f23444b85cbd"
      },
      "source": [
        "predictions = model.forward(images[:10].view(-1, 28*28).to(device))\n",
        "predictions = torch.argmax(predictions, dim=1)\n",
        "print('Predicted labels', predictions.cpu().numpy())"
      ],
      "execution_count": null,
      "outputs": [
        {
          "output_type": "stream",
          "text": [
            "Predicted labels [8 9 6 8 6 5 1 9 8 6]\n"
          ],
          "name": "stdout"
        }
      ]
    }
  ]
}