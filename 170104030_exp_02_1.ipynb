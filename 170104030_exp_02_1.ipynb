{
  "nbformat": 4,
  "nbformat_minor": 0,
  "metadata": {
    "colab": {
      "name": "170104030_exp_02_1.ipynb",
      "provenance": [],
      "collapsed_sections": []
    },
    "kernelspec": {
      "name": "python3",
      "display_name": "Python 3"
    },
    "language_info": {
      "name": "python"
    }
  },
  "cells": [
    {
      "cell_type": "code",
      "metadata": {
        "id": "jqDWVtOp07TQ"
      },
      "source": [
        "import numpy as np\n",
        "import pandas as pd\n",
        "import torch\n",
        "import torch.nn as nn\n",
        "import torch.nn.functional as F\n",
        "import torch.optim as optim\n",
        "from torch.utils.data import Dataset\n",
        "from torch.utils.data.sampler import SubsetRandomSampler\n",
        "from torchvision import datasets, transforms, models\n",
        "import os\n",
        "from os import path\n",
        "import matplotlib\n",
        "import matplotlib.pyplot as plt\n",
        "from PIL import Image"
      ],
      "execution_count": 1,
      "outputs": []
    },
    {
      "cell_type": "code",
      "metadata": {
        "colab": {
          "base_uri": "https://localhost:8080/"
        },
        "id": "0Mp2krfvfbdv",
        "outputId": "97a2648b-8074-4d54-ccea-ff2e73ad20dc"
      },
      "source": [
        "from google.colab import drive\n",
        "drive.mount('/content/gdrive')"
      ],
      "execution_count": 2,
      "outputs": [
        {
          "output_type": "stream",
          "text": [
            "Mounted at /content/gdrive\n"
          ],
          "name": "stdout"
        }
      ]
    },
    {
      "cell_type": "code",
      "metadata": {
        "id": "UFFJ-zZMflYS"
      },
      "source": [
        "# !unzip '/content/gdrive/MyDrive/Soft Computing/Assignment 2/Dataset A.zip'"
      ],
      "execution_count": 17,
      "outputs": []
    },
    {
      "cell_type": "code",
      "metadata": {
        "id": "0UliCJhbfnuh"
      },
      "source": [
        "dataset_csv = pd.read_csv('/content/training-a.csv')\n",
        "dataset_csv = dataset_csv[['filename', 'digit']]\n"
      ],
      "execution_count": 4,
      "outputs": []
    },
    {
      "cell_type": "code",
      "metadata": {
        "colab": {
          "base_uri": "https://localhost:8080/",
          "height": 203
        },
        "id": "dXb4qqYu3i6l",
        "outputId": "62e26f6a-8841-4916-83b5-34d85aabde95"
      },
      "source": [
        "dataset_csv.head()"
      ],
      "execution_count": 5,
      "outputs": [
        {
          "output_type": "execute_result",
          "data": {
            "text/html": [
              "<div>\n",
              "<style scoped>\n",
              "    .dataframe tbody tr th:only-of-type {\n",
              "        vertical-align: middle;\n",
              "    }\n",
              "\n",
              "    .dataframe tbody tr th {\n",
              "        vertical-align: top;\n",
              "    }\n",
              "\n",
              "    .dataframe thead th {\n",
              "        text-align: right;\n",
              "    }\n",
              "</style>\n",
              "<table border=\"1\" class=\"dataframe\">\n",
              "  <thead>\n",
              "    <tr style=\"text-align: right;\">\n",
              "      <th></th>\n",
              "      <th>filename</th>\n",
              "      <th>digit</th>\n",
              "    </tr>\n",
              "  </thead>\n",
              "  <tbody>\n",
              "    <tr>\n",
              "      <th>0</th>\n",
              "      <td>a00000.png</td>\n",
              "      <td>5</td>\n",
              "    </tr>\n",
              "    <tr>\n",
              "      <th>1</th>\n",
              "      <td>a00001.png</td>\n",
              "      <td>3</td>\n",
              "    </tr>\n",
              "    <tr>\n",
              "      <th>2</th>\n",
              "      <td>a00002.png</td>\n",
              "      <td>1</td>\n",
              "    </tr>\n",
              "    <tr>\n",
              "      <th>3</th>\n",
              "      <td>a00003.png</td>\n",
              "      <td>7</td>\n",
              "    </tr>\n",
              "    <tr>\n",
              "      <th>4</th>\n",
              "      <td>a00004.png</td>\n",
              "      <td>0</td>\n",
              "    </tr>\n",
              "  </tbody>\n",
              "</table>\n",
              "</div>"
            ],
            "text/plain": [
              "     filename  digit\n",
              "0  a00000.png      5\n",
              "1  a00001.png      3\n",
              "2  a00002.png      1\n",
              "3  a00003.png      7\n",
              "4  a00004.png      0"
            ]
          },
          "metadata": {},
          "execution_count": 5
        }
      ]
    },
    {
      "cell_type": "code",
      "metadata": {
        "id": "JLTJ8fu3f-jA"
      },
      "source": [
        "class DigitDataset(Dataset):\n",
        "    def __init__(self, df, root, transform=None):\n",
        "        self.data = df\n",
        "        self.root = root\n",
        "        self.transform = transform\n",
        "        \n",
        "    def __len__(self):\n",
        "        return len(self.data)\n",
        "    \n",
        "    def __getitem__(self, index):\n",
        "        item = self.data.iloc[index]\n",
        "        \n",
        "        path = self.root + \"/\" + item[0]\n",
        "        image = Image.open(path).convert('L')\n",
        "        label = item[1]\n",
        "        \n",
        "        if self.transform is not None:\n",
        "            image = self.transform(image)\n",
        "            \n",
        "        return image, label"
      ],
      "execution_count": 6,
      "outputs": []
    },
    {
      "cell_type": "code",
      "metadata": {
        "colab": {
          "base_uri": "https://localhost:8080/"
        },
        "id": "-rm1JHjIgBNK",
        "outputId": "d4356216-5b78-4d1a-a8c0-7d8c168362b5"
      },
      "source": [
        "mean = [0.5,]\n",
        "std = [0.5, ]\n",
        "\n",
        "train_transform = transforms.Compose([\n",
        "    transforms.Resize(28),\n",
        "    transforms.ToTensor(),\n",
        "    transforms.Normalize(mean, std)\n",
        "])\n",
        "\n",
        "TRAIN_PATH = '/content/training-a'\n",
        "dataset  = DigitDataset(dataset_csv, TRAIN_PATH, train_transform)\n",
        "\n",
        "print(\"Trainig Samples: \",len(dataset))"
      ],
      "execution_count": 7,
      "outputs": [
        {
          "output_type": "stream",
          "text": [
            "Trainig Samples:  19702\n"
          ],
          "name": "stdout"
        }
      ]
    },
    {
      "cell_type": "code",
      "metadata": {
        "colab": {
          "base_uri": "https://localhost:8080/"
        },
        "id": "antEBppdgDMC",
        "outputId": "26ae08ca-c504-46d2-b1d5-ee82b19767eb"
      },
      "source": [
        "dataset[0][0].size()"
      ],
      "execution_count": 8,
      "outputs": [
        {
          "output_type": "execute_result",
          "data": {
            "text/plain": [
              "torch.Size([1, 28, 28])"
            ]
          },
          "metadata": {},
          "execution_count": 8
        }
      ]
    },
    {
      "cell_type": "code",
      "metadata": {
        "id": "SDa-GczmgHki"
      },
      "source": [
        "train_set, test_set = torch.utils.data.random_split(dataset,[15000,4702])"
      ],
      "execution_count": 9,
      "outputs": []
    },
    {
      "cell_type": "markdown",
      "metadata": {
        "id": "WEJ9JjOXKwHX"
      },
      "source": [
        "# Experiment 2"
      ]
    },
    {
      "cell_type": "code",
      "metadata": {
        "id": "fWpJXBE-hCIz"
      },
      "source": [
        "# Hyperparameters\n",
        "batch_size = 100\n",
        "num_iters = 50000\n",
        "input_dim = 28*28 # num_features = 784\n",
        "num_hidden = 500\n",
        "output_dim = 10\n",
        "\n",
        "learning_rate = 0.01\n",
        "\n",
        "\n",
        "num_epochs = num_iters / (len(train_set) / batch_size)\n",
        "num_epochs = int(num_epochs)\n",
        "\n",
        "iteration_loss = []\n",
        "accuracy_l = []\n",
        "\n",
        "# Device\n",
        "device = torch.device(\"cuda:0\" if torch.cuda.is_available() else \"cpu\")\n",
        "\n",
        "\n",
        "train_loader = torch.utils.data.DataLoader(dataset=train_set, \n",
        "                                           batch_size=batch_size, \n",
        "                                           shuffle=True)   # It's better to shuffle the whole training dataset! \n",
        "\n",
        "test_loader = torch.utils.data.DataLoader(dataset=test_set, \n",
        "                                          batch_size=batch_size, \n",
        "                                          shuffle=False) \n",
        "\n",
        "class DeepNeuralNetworkModel(nn.Module):\n",
        "    def __init__(self, input_size, num_classes, num_hidden):\n",
        "        super().__init__()\n",
        "        ### 1st hidden layer: 784 --> 100\n",
        "        self.linear_1 = nn.Linear(input_size, num_hidden)\n",
        "        ### Non-linearity in 1st hidden layer\n",
        "        self.relu_1 = nn.ReLU()\n",
        "\n",
        "        ### 2nd hidden layer: 100 --> 100\n",
        "        self.linear_2 = nn.Linear(num_hidden, num_hidden)\n",
        "        ### Non-linearity in 2nd hidden layer\n",
        "        self.relu_2 = nn.ReLU()\n",
        "\n",
        "        ### 3rd hidden layer: 100 --> 100\n",
        "        self.linear_3 = nn.Linear(num_hidden, num_hidden)\n",
        "        ### Non-linearity in 3rd hidden layer\n",
        "        self.relu_3 = nn.ReLU()\n",
        "\n",
        "        ### 4th hidden layer: 100 --> 100\n",
        "        self.linear_4 = nn.Linear(num_hidden, num_hidden)\n",
        "        ### Non-linearity in 4th hidden layer\n",
        "        self.relu_4 = nn.ReLU()\n",
        "\n",
        "        # ### 5th hidden layer: 100 --> 100\n",
        "        # self.linear_5 = nn.Linear(num_hidden, num_hidden)\n",
        "        # ### Non-linearity in 4th hidden layer\n",
        "        # self.relu_5 = nn.ReLU()\n",
        "\n",
        "        # ### 6th hidden layer: 100 --> 100\n",
        "        # self.linear_6 = nn.Linear(num_hidden, num_hidden)\n",
        "        # ### Non-linearity in 4th hidden layer\n",
        "        # self.relu_6 = nn.ReLU()\n",
        "\n",
        "        ### Output layer: 100 --> 10\n",
        "        self.linear_out = nn.Linear(num_hidden, num_classes)\n",
        "\n",
        "    def forward(self, x):\n",
        "        ### 1st hidden layer\n",
        "        # x = x.view(x.shape[0], -1)\n",
        "        out  = self.linear_1(x)\n",
        "        ### Non-linearity in 1st hidden layer\n",
        "        out = self.relu_1(out)\n",
        "        \n",
        "        ### 2nd hidden layer\n",
        "        out  = self.linear_2(out)\n",
        "        ### Non-linearity in 2nd hidden layer\n",
        "        out = self.relu_2(out)\n",
        "\n",
        "        ### 3rd hidden layer\n",
        "        out  = self.linear_3(out)\n",
        "        ### Non-linearity in 3rd hidden layer\n",
        "        out = self.relu_3(out)\n",
        "\n",
        "        ### 4th hidden layer\n",
        "        out  = self.linear_4(out)\n",
        "        ### Non-linearity in 4th hidden layer\n",
        "        out = self.relu_4(out)\n",
        "\n",
        "        # ### 5th hidden layer\n",
        "        # out  = self.linear_5(out)\n",
        "        # ### Non-linearity in 5th hidden layer\n",
        "        # out = self.relu_5(out)\n",
        "\n",
        "        # ### 6th hidden layer\n",
        "        # out  = self.linear_6(out)\n",
        "        # ### Non-linearity in 6th hidden layer\n",
        "        # out = self.relu_6(out)\n",
        "        \n",
        "        # Linear layer (output)\n",
        "        probas  = self.linear_out(out)\n",
        "        return probas\n",
        "\n",
        "# INSTANTIATE MODEL CLASS\n",
        "\n",
        "model = DeepNeuralNetworkModel(input_size = input_dim,\n",
        "                               num_classes = output_dim,\n",
        "                               num_hidden = num_hidden)\n",
        "\n",
        "\n",
        "# To enable GPU\n",
        "model.to(device)\n",
        "\n",
        "criterion = nn.CrossEntropyLoss()\n",
        "optimizer = torch.optim.SGD(model.parameters(), lr=learning_rate)"
      ],
      "execution_count": 10,
      "outputs": []
    },
    {
      "cell_type": "code",
      "metadata": {
        "id": "zPYYPd_HA4Bs",
        "colab": {
          "base_uri": "https://localhost:8080/"
        },
        "outputId": "73345db2-b02c-41b8-815c-8a0333aed8dd"
      },
      "source": [
        "iter = 0\n",
        "for epoch in range(num_epochs):\n",
        "    for i, (images, labels) in enumerate(train_loader):\n",
        "\n",
        "        images = images.view(-1, 28*28).to(device)\n",
        "        labels = labels.to(device)\n",
        "\n",
        "        # Clear gradients w.r.t. parameters\n",
        "        optimizer.zero_grad()\n",
        "\n",
        "        # Forward pass to get output/logits\n",
        "        outputs = model(images) \n",
        "\n",
        "        # Calculate Loss: softmax --> cross entropy loss\n",
        "        loss = criterion(outputs, labels)\n",
        "\n",
        "        # Getting gradients w.r.t. parameters\n",
        "        loss.backward()\n",
        "\n",
        "        # Updating parameters\n",
        "        optimizer.step()\n",
        "\n",
        "        iter += 1\n",
        "        if iter % 50 == 0:\n",
        "            print(\"\\r>> Current Iteration {}\".format(iter+1),end='')\n",
        "\n",
        "        if iter % 500 == 0:\n",
        "            # Calculate Accuracy         \n",
        "            correct = 0\n",
        "            total = 0\n",
        "            # Iterate through test dataset\n",
        "            for images, labels in test_loader:\n",
        "               \n",
        "                images = images.view(-1, 28*28).to(device)\n",
        "\n",
        "                # Forward pass only to get logits/output\n",
        "                outputs = model(images)\n",
        "\n",
        "                # Get predictions from the maximum value\n",
        "                _, predicted = torch.max(outputs, 1)\n",
        "\n",
        "                # Total number of labels\n",
        "                total += labels.size(0)\n",
        "\n",
        "\n",
        "                # Total correct predictions\n",
        "                if torch.cuda.is_available():\n",
        "                    correct += (predicted.cpu() == labels.cpu()).sum() \n",
        "                else:\n",
        "                    correct += (predicted == labels).sum()\n",
        "\n",
        "            accuracy = 100 * correct.item() / total\n",
        "\n",
        "            iteration_loss.append(loss.item())\n",
        "            accuracy_l.append(accuracy)\n",
        "\n",
        "            # Print Loss\n",
        "            print('\\nIteration: {}. Loss: {}. Accuracy: {}'.format(iter, loss.item(), accuracy))"
      ],
      "execution_count": 11,
      "outputs": [
        {
          "output_type": "stream",
          "text": [
            ">> Current Iteration 501\n",
            "Iteration: 500. Loss: 2.30112886428833. Accuracy: 9.655465759251383\n",
            ">> Current Iteration 1001\n",
            "Iteration: 1000. Loss: 2.3003461360931396. Accuracy: 9.485325393449596\n",
            ">> Current Iteration 1501\n",
            "Iteration: 1500. Loss: 2.2933509349823. Accuracy: 9.485325393449596\n",
            ">> Current Iteration 2001\n",
            "Iteration: 2000. Loss: 2.2946999073028564. Accuracy: 9.50659293917482\n",
            ">> Current Iteration 2501\n",
            "Iteration: 2500. Loss: 2.2857751846313477. Accuracy: 9.485325393449596\n",
            ">> Current Iteration 3001\n",
            "Iteration: 3000. Loss: 2.2785797119140625. Accuracy: 9.50659293917482\n",
            ">> Current Iteration 3501\n",
            "Iteration: 3500. Loss: 2.280085325241089. Accuracy: 13.015737983836665\n",
            ">> Current Iteration 4001\n",
            "Iteration: 4000. Loss: 2.2566330432891846. Accuracy: 25.287111867290516\n",
            ">> Current Iteration 4501\n",
            "Iteration: 4500. Loss: 2.246367931365967. Accuracy: 24.755423224159934\n",
            ">> Current Iteration 5001\n",
            "Iteration: 5000. Loss: 2.188356876373291. Accuracy: 22.820076563164612\n",
            ">> Current Iteration 5501\n",
            "Iteration: 5500. Loss: 2.1764392852783203. Accuracy: 23.58570820927265\n",
            ">> Current Iteration 6001\n",
            "Iteration: 6000. Loss: 2.126047134399414. Accuracy: 30.136112292641428\n",
            ">> Current Iteration 6501\n",
            "Iteration: 6500. Loss: 2.0898935794830322. Accuracy: 30.816673755848576\n",
            ">> Current Iteration 7001\n",
            "Iteration: 7000. Loss: 1.8556324243545532. Accuracy: 33.15610378562314\n",
            ">> Current Iteration 7501\n",
            "Iteration: 7500. Loss: 2.0218727588653564. Accuracy: 18.077413866439812\n",
            ">> Current Iteration 8001\n",
            "Iteration: 8000. Loss: 1.823554515838623. Accuracy: 38.983411314334326\n",
            ">> Current Iteration 8501\n",
            "Iteration: 8500. Loss: 1.8503276109695435. Accuracy: 35.133985538068906\n",
            ">> Current Iteration 9001\n",
            "Iteration: 9000. Loss: 1.6363534927368164. Accuracy: 33.77286261165462\n",
            ">> Current Iteration 9501\n",
            "Iteration: 9500. Loss: 1.7443389892578125. Accuracy: 33.11356869417269\n",
            ">> Current Iteration 10001\n",
            "Iteration: 10000. Loss: 1.501109004020691. Accuracy: 46.8949383241174\n",
            ">> Current Iteration 10501\n",
            "Iteration: 10500. Loss: 1.7955131530761719. Accuracy: 40.02552105487027\n",
            ">> Current Iteration 11001\n",
            "Iteration: 11000. Loss: 1.4835751056671143. Accuracy: 37.62228838792004\n",
            ">> Current Iteration 11501\n",
            "Iteration: 11500. Loss: 1.245285987854004. Accuracy: 57.91152700978307\n",
            ">> Current Iteration 12001\n",
            "Iteration: 12000. Loss: 1.590029001235962. Accuracy: 40.961293066780094\n",
            ">> Current Iteration 12501\n",
            "Iteration: 12500. Loss: 2.0256171226501465. Accuracy: 57.14589536367503\n",
            ">> Current Iteration 13001\n",
            "Iteration: 13000. Loss: 1.3344813585281372. Accuracy: 48.27732879625691\n",
            ">> Current Iteration 13501\n",
            "Iteration: 13500. Loss: 1.49958074092865. Accuracy: 63.33475116971501\n",
            ">> Current Iteration 14001\n",
            "Iteration: 14000. Loss: 2.2948055267333984. Accuracy: 37.02679710761378\n",
            ">> Current Iteration 14501\n",
            "Iteration: 14500. Loss: 0.8632553815841675. Accuracy: 65.29136537643556\n",
            ">> Current Iteration 15001\n",
            "Iteration: 15000. Loss: 1.2062066793441772. Accuracy: 62.8668651637601\n",
            ">> Current Iteration 15501\n",
            "Iteration: 15500. Loss: 1.0111793279647827. Accuracy: 68.31135686941727\n",
            ">> Current Iteration 16001\n",
            "Iteration: 16000. Loss: 1.4884387254714966. Accuracy: 51.44619310931518\n",
            ">> Current Iteration 16501\n",
            "Iteration: 16500. Loss: 0.8634117245674133. Accuracy: 69.03445342407487\n",
            ">> Current Iteration 17001\n",
            "Iteration: 17000. Loss: 1.7493445873260498. Accuracy: 32.98596341982135\n",
            ">> Current Iteration 17501\n",
            "Iteration: 17500. Loss: 1.4352954626083374. Accuracy: 34.38962143768609\n",
            ">> Current Iteration 18001\n",
            "Iteration: 18000. Loss: 0.7648283243179321. Accuracy: 72.86261165461505\n",
            ">> Current Iteration 18501\n",
            "Iteration: 18500. Loss: 0.4832145571708679. Accuracy: 73.18162484049341\n",
            ">> Current Iteration 19001\n",
            "Iteration: 19000. Loss: 0.770897388458252. Accuracy: 68.11994895789026\n",
            ">> Current Iteration 19501\n",
            "Iteration: 19500. Loss: 0.8430123925209045. Accuracy: 70.75712462781794\n",
            ">> Current Iteration 20001\n",
            "Iteration: 20000. Loss: 0.6564786434173584. Accuracy: 75.77626541897065\n",
            ">> Current Iteration 20501\n",
            "Iteration: 20500. Loss: 0.679085910320282. Accuracy: 73.77711612079966\n",
            ">> Current Iteration 21001\n",
            "Iteration: 21000. Loss: 0.5060172080993652. Accuracy: 77.22245852828584\n",
            ">> Current Iteration 21501\n",
            "Iteration: 21500. Loss: 0.7362551093101501. Accuracy: 79.30667800935773\n",
            ">> Current Iteration 22001\n",
            "Iteration: 22000. Loss: 1.1202011108398438. Accuracy: 41.62058698426202\n",
            ">> Current Iteration 22501\n",
            "Iteration: 22500. Loss: 0.4506218433380127. Accuracy: 78.79625691195236\n",
            ">> Current Iteration 23001\n",
            "Iteration: 23000. Loss: 0.8359806537628174. Accuracy: 75.24457677584007\n",
            ">> Current Iteration 23501\n",
            "Iteration: 23500. Loss: 0.7071108222007751. Accuracy: 75.20204168438963\n",
            ">> Current Iteration 24001\n",
            "Iteration: 24000. Loss: 0.7949336171150208. Accuracy: 75.92513823904721\n",
            ">> Current Iteration 24501\n",
            "Iteration: 24500. Loss: 0.6503225564956665. Accuracy: 82.19906422798809\n",
            ">> Current Iteration 25001\n",
            "Iteration: 25000. Loss: 0.46609237790107727. Accuracy: 75.77626541897065\n",
            ">> Current Iteration 25501\n",
            "Iteration: 25500. Loss: 1.469618558883667. Accuracy: 40.557209698000854\n",
            ">> Current Iteration 26001\n",
            "Iteration: 26000. Loss: 1.2200103998184204. Accuracy: 48.21352615908124\n",
            ">> Current Iteration 26501\n",
            "Iteration: 26500. Loss: 0.3828732371330261. Accuracy: 79.11527009783072\n",
            ">> Current Iteration 27001\n",
            "Iteration: 27000. Loss: 0.3796035349369049. Accuracy: 84.60229689493832\n",
            ">> Current Iteration 27501\n",
            "Iteration: 27500. Loss: 0.4565357267856598. Accuracy: 84.87877498936622\n",
            ">> Current Iteration 28001\n",
            "Iteration: 28000. Loss: 0.5261663198471069. Accuracy: 84.24074861760953\n",
            ">> Current Iteration 28501\n",
            "Iteration: 28500. Loss: 1.4824538230895996. Accuracy: 47.66056997022544\n",
            ">> Current Iteration 29001\n",
            "Iteration: 29000. Loss: 0.4317595958709717. Accuracy: 83.85793279455551\n",
            ">> Current Iteration 29501\n",
            "Iteration: 29500. Loss: 0.4730713665485382. Accuracy: 83.13483623989792\n",
            ">> Current Iteration 30001\n",
            "Iteration: 30000. Loss: 0.29543012380599976. Accuracy: 85.70820927264994\n",
            ">> Current Iteration 30501\n",
            "Iteration: 30500. Loss: 1.7692921161651611. Accuracy: 51.829008932369206\n",
            ">> Current Iteration 31001\n",
            "Iteration: 31000. Loss: 0.278711199760437. Accuracy: 87.4946831135687\n",
            ">> Current Iteration 31501\n",
            "Iteration: 31500. Loss: 0.32654130458831787. Accuracy: 87.02679710761379\n",
            ">> Current Iteration 32001\n",
            "Iteration: 32000. Loss: 0.4372766613960266. Accuracy: 84.62356444066354\n",
            ">> Current Iteration 32501\n",
            "Iteration: 32500. Loss: 0.2720879018306732. Accuracy: 86.47384091875797\n",
            ">> Current Iteration 33001\n",
            "Iteration: 33000. Loss: 0.4312244653701782. Accuracy: 83.19863887707359\n",
            ">> Current Iteration 33501\n",
            "Iteration: 33500. Loss: 0.30549290776252747. Accuracy: 88.13270948532539\n",
            ">> Current Iteration 34001\n",
            "Iteration: 34000. Loss: 0.1938590407371521. Accuracy: 88.85580603998298\n",
            ">> Current Iteration 34501\n",
            "Iteration: 34500. Loss: 0.44346415996551514. Accuracy: 87.92003402807316\n",
            ">> Current Iteration 35001\n",
            "Iteration: 35000. Loss: 0.3240615427494049. Accuracy: 88.8770735857082\n",
            ">> Current Iteration 35501\n",
            "Iteration: 35500. Loss: 0.34129825234413147. Accuracy: 87.96256911952361\n",
            ">> Current Iteration 36001\n",
            "Iteration: 36000. Loss: 0.24982038140296936. Accuracy: 89.28115695448746\n",
            ">> Current Iteration 36501\n",
            "Iteration: 36500. Loss: 0.23590728640556335. Accuracy: 88.62186303700553\n",
            ">> Current Iteration 37001\n",
            "Iteration: 37000. Loss: 0.2728579044342041. Accuracy: 87.15440238196513\n",
            ">> Current Iteration 37501\n",
            "Iteration: 37500. Loss: 0.6537529230117798. Accuracy: 85.0276478094428\n",
            ">> Current Iteration 38001\n",
            "Iteration: 38000. Loss: 0.2989092767238617. Accuracy: 89.66397277754147\n",
            ">> Current Iteration 38501\n",
            "Iteration: 38500. Loss: 0.2439403384923935. Accuracy: 87.15440238196513\n",
            ">> Current Iteration 39001\n",
            "Iteration: 39000. Loss: 0.7504692077636719. Accuracy: 71.77796682262867\n",
            ">> Current Iteration 39501\n",
            "Iteration: 39500. Loss: 0.23204661905765533. Accuracy: 88.47299021692896\n",
            ">> Current Iteration 40001\n",
            "Iteration: 40000. Loss: 0.1266329437494278. Accuracy: 89.91918332624415\n",
            ">> Current Iteration 40501\n",
            "Iteration: 40500. Loss: 0.2596970796585083. Accuracy: 88.98341131433432\n",
            ">> Current Iteration 41001\n",
            "Iteration: 41000. Loss: 0.3301900625228882. Accuracy: 85.72947681837516\n",
            ">> Current Iteration 41501\n",
            "Iteration: 41500. Loss: 0.15756705403327942. Accuracy: 89.83411314334326\n",
            ">> Current Iteration 42001\n",
            "Iteration: 42000. Loss: 0.18157318234443665. Accuracy: 89.72777541471714\n",
            ">> Current Iteration 42501\n",
            "Iteration: 42500. Loss: 0.10510741919279099. Accuracy: 90.94002552105486\n",
            ">> Current Iteration 43001\n",
            "Iteration: 43000. Loss: 0.22647053003311157. Accuracy: 89.55763504891536\n",
            ">> Current Iteration 43501\n",
            "Iteration: 43500. Loss: 0.2170163094997406. Accuracy: 89.1322841344109\n",
            ">> Current Iteration 44001\n",
            "Iteration: 44000. Loss: 0.2846156358718872. Accuracy: 88.43045512547852\n",
            ">> Current Iteration 44501\n",
            "Iteration: 44500. Loss: 0.40834683179855347. Accuracy: 88.36665248830285\n",
            ">> Current Iteration 45001\n",
            "Iteration: 45000. Loss: 0.2050972580909729. Accuracy: 91.00382815823055\n",
            ">> Current Iteration 45501\n",
            "Iteration: 45500. Loss: 0.2145865261554718. Accuracy: 89.94045087196938\n",
            ">> Current Iteration 46001\n",
            "Iteration: 46000. Loss: 0.17296868562698364. Accuracy: 90.89749042960442\n",
            ">> Current Iteration 46501\n",
            "Iteration: 46500. Loss: 0.13748346269130707. Accuracy: 90.83368779242875\n",
            ">> Current Iteration 47001\n",
            "Iteration: 47000. Loss: 0.10947636514902115. Accuracy: 90.94002552105486\n",
            ">> Current Iteration 47501\n",
            "Iteration: 47500. Loss: 0.24544471502304077. Accuracy: 87.72862611654615\n",
            ">> Current Iteration 48001\n",
            "Iteration: 48000. Loss: 0.18864548206329346. Accuracy: 89.45129732028924\n",
            ">> Current Iteration 48501\n",
            "Iteration: 48500. Loss: 0.44607067108154297. Accuracy: 79.8383666524883\n",
            ">> Current Iteration 49001\n",
            "Iteration: 49000. Loss: 0.2190677672624588. Accuracy: 91.7907273500638\n",
            ">> Current Iteration 49501\n",
            "Iteration: 49500. Loss: 0.4778711795806885. Accuracy: 88.09017439387495\n",
            ">> Current Iteration 49951"
          ],
          "name": "stdout"
        }
      ]
    },
    {
      "cell_type": "code",
      "metadata": {
        "colab": {
          "base_uri": "https://localhost:8080/",
          "height": 279
        },
        "id": "ZKNWUZPgaXno",
        "outputId": "4e418601-0049-41dd-ce68-339c907dc125"
      },
      "source": [
        "import matplotlib\n",
        "import matplotlib.pyplot as plt\n",
        "# print (iteration_loss)\n",
        "plt.plot(iteration_loss)\n",
        "plt.ylabel('Cross Entropy Loss')\n",
        "plt.xlabel('Iteration (in every 500)')\n",
        "plt.show()"
      ],
      "execution_count": 12,
      "outputs": [
        {
          "output_type": "display_data",
          "data": {
            "image/png": "[encoded data removed]",
            "text/plain": [
              "<Figure size 432x288 with 1 Axes>"
            ]
          },
          "metadata": {
            "needs_background": "light"
          }
        }
      ]
    },
    {
      "cell_type": "code",
      "metadata": {
        "id": "0DpZqAwsExzN"
      },
      "source": [
        "save_model = True\n",
        "\n",
        "if save_model is True:\n",
        "    # Saves only parameters\n",
        "    # weights & biases\n",
        "    torch.save(model.state_dict(), 'exp_02_1.pkl')"
      ],
      "execution_count": 18,
      "outputs": []
    },
    {
      "cell_type": "code",
      "metadata": {
        "colab": {
          "base_uri": "https://localhost:8080/"
        },
        "id": "ZR3NYnA0Zxni",
        "outputId": "4c73811c-7cb6-4c98-9c31-51d0e2f6261e"
      },
      "source": [
        "load_model = True\n",
        "\n",
        "if load_model is True:\n",
        "    model.load_state_dict(torch.load('/content/exp_02_1.pkl'))\n",
        "    print('Trained Model Loaded')"
      ],
      "execution_count": 19,
      "outputs": [
        {
          "output_type": "stream",
          "text": [
            "Trained Model Loaded\n"
          ],
          "name": "stdout"
        }
      ]
    },
    {
      "cell_type": "code",
      "metadata": {
        "colab": {
          "base_uri": "https://localhost:8080/",
          "height": 80
        },
        "id": "ddLip39GZzi6",
        "outputId": "13eebfde-b184-4c41-f652-1004d46322a0"
      },
      "source": [
        "for images, labels in test_loader:\n",
        "    break\n",
        "    \n",
        "fig, ax = plt.subplots(1, 10)\n",
        "for i in range(10):\n",
        "    ax[i].imshow(images[i].view(28, 28), cmap=matplotlib.cm.binary)\n",
        "\n",
        "plt.show()"
      ],
      "execution_count": 20,
      "outputs": [
        {
          "output_type": "display_data",
          "data": {
            "image/png": "[encoded data removed]",
            "text/plain": [
              "<Figure size 432x288 with 10 Axes>"
            ]
          },
          "metadata": {
            "needs_background": "light"
          }
        }
      ]
    },
    {
      "cell_type": "code",
      "metadata": {
        "colab": {
          "base_uri": "https://localhost:8080/"
        },
        "id": "V6pL860PaNvt",
        "outputId": "7b847ba7-ba4d-4d9a-f715-0a48feaf8a55"
      },
      "source": [
        "predictions = model.forward(images[:10].view(-1, 28*28).to(device))\n",
        "predictions = torch.argmax(predictions, dim=1)\n",
        "print('Predicted labels', predictions.cpu().numpy())"
      ],
      "execution_count": 21,
      "outputs": [
        {
          "output_type": "stream",
          "text": [
            "Predicted labels [5 7 8 7 2 3 0 3 8 0]\n"
          ],
          "name": "stdout"
        }
      ]
    },
    {
      "cell_type": "code",
      "metadata": {
        "id": "EW_NdHLKaQK4"
      },
      "source": [
        ""
      ],
      "execution_count": null,
      "outputs": []
    }
  ]
}